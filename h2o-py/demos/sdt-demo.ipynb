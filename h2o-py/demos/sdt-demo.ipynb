{
 "cells": [
  {
   "cell_type": "code",
   "execution_count": 2,
   "outputs": [],
   "source": [
    "import pandas as pd\n",
    "from sklearn import tree\n",
    "from sklearn.metrics import confusion_matrix\n",
    "from sklearn.metrics import precision_score, recall_score, f1_score, accuracy_score\n",
    "from sklearn.model_selection import train_test_split"
   ],
   "metadata": {
    "collapsed": false,
    "pycharm": {
     "name": "#%%\n"
    }
   }
  },
  {
   "cell_type": "code",
   "execution_count": 10,
   "outputs": [],
   "source": [
    "\n",
    "# train_file = '../../smalldata/prostate/prostate_train.csv'\n",
    "# test_file = '../../smalldata/prostate/prostate_test.csv'\n",
    "# prediction_column = 'CAPSULE'\n",
    "\n",
    "train_file = \"../../smalldata/testng/airlines_train_preprocessed.csv\"\n",
    "test_file = \"../../smalldata/testng/airlines_test_preprocessed.csv\"\n",
    "prediction_column = 'IsDepDelayed'"
   ],
   "metadata": {
    "collapsed": false,
    "pycharm": {
     "name": "#%%\n"
    }
   }
  },
  {
   "cell_type": "code",
   "execution_count": 3,
   "outputs": [],
   "source": [],
   "metadata": {
    "collapsed": false,
    "pycharm": {
     "name": "#%%\n"
    }
   }
  },
  {
   "cell_type": "code",
   "execution_count": 11,
   "outputs": [],
   "source": [
    "data_train = pd.read_csv(train_file)\n",
    "data_test = pd.read_csv(test_file)"
   ],
   "metadata": {
    "collapsed": false,
    "pycharm": {
     "name": "#%%\n"
    }
   }
  },
  {
   "cell_type": "code",
   "execution_count": 12,
   "outputs": [
    {
     "data": {
      "text/plain": "    IsDepDelayed  fYear  fMonth  fDayofMonth  fDayOfWeek  UniqueCarrier  \\\n0              1   1987      10           14           3              0   \n1              0   1987      10           18           7              0   \n2              1   1987      10           19           1              0   \n3              0   1987      10           21           3              0   \n4              1   1987      10           23           5              0   \n..           ...    ...     ...          ...         ...            ...   \n95             1   1987      10           30           5              0   \n96             1   1987      10            1           4              0   \n97             1   1987      10            3           6              0   \n98             1   1987      10            5           1              0   \n99             1   1987      10            6           2              0   \n\n    Origin  Dest  Distance  \n0        0     0       447  \n1        0     0       447  \n2        0     0       447  \n3        0     0       447  \n4        0     0       447  \n..     ...   ...       ...  \n95       4     0       337  \n96       5     4       370  \n97       5     4       370  \n98       5     4       370  \n99       5     4       370  \n\n[100 rows x 9 columns]",
      "text/html": "<div>\n<style scoped>\n    .dataframe tbody tr th:only-of-type {\n        vertical-align: middle;\n    }\n\n    .dataframe tbody tr th {\n        vertical-align: top;\n    }\n\n    .dataframe thead th {\n        text-align: right;\n    }\n</style>\n<table border=\"1\" class=\"dataframe\">\n  <thead>\n    <tr style=\"text-align: right;\">\n      <th></th>\n      <th>IsDepDelayed</th>\n      <th>fYear</th>\n      <th>fMonth</th>\n      <th>fDayofMonth</th>\n      <th>fDayOfWeek</th>\n      <th>UniqueCarrier</th>\n      <th>Origin</th>\n      <th>Dest</th>\n      <th>Distance</th>\n    </tr>\n  </thead>\n  <tbody>\n    <tr>\n      <th>0</th>\n      <td>1</td>\n      <td>1987</td>\n      <td>10</td>\n      <td>14</td>\n      <td>3</td>\n      <td>0</td>\n      <td>0</td>\n      <td>0</td>\n      <td>447</td>\n    </tr>\n    <tr>\n      <th>1</th>\n      <td>0</td>\n      <td>1987</td>\n      <td>10</td>\n      <td>18</td>\n      <td>7</td>\n      <td>0</td>\n      <td>0</td>\n      <td>0</td>\n      <td>447</td>\n    </tr>\n    <tr>\n      <th>2</th>\n      <td>1</td>\n      <td>1987</td>\n      <td>10</td>\n      <td>19</td>\n      <td>1</td>\n      <td>0</td>\n      <td>0</td>\n      <td>0</td>\n      <td>447</td>\n    </tr>\n    <tr>\n      <th>3</th>\n      <td>0</td>\n      <td>1987</td>\n      <td>10</td>\n      <td>21</td>\n      <td>3</td>\n      <td>0</td>\n      <td>0</td>\n      <td>0</td>\n      <td>447</td>\n    </tr>\n    <tr>\n      <th>4</th>\n      <td>1</td>\n      <td>1987</td>\n      <td>10</td>\n      <td>23</td>\n      <td>5</td>\n      <td>0</td>\n      <td>0</td>\n      <td>0</td>\n      <td>447</td>\n    </tr>\n    <tr>\n      <th>...</th>\n      <td>...</td>\n      <td>...</td>\n      <td>...</td>\n      <td>...</td>\n      <td>...</td>\n      <td>...</td>\n      <td>...</td>\n      <td>...</td>\n      <td>...</td>\n    </tr>\n    <tr>\n      <th>95</th>\n      <td>1</td>\n      <td>1987</td>\n      <td>10</td>\n      <td>30</td>\n      <td>5</td>\n      <td>0</td>\n      <td>4</td>\n      <td>0</td>\n      <td>337</td>\n    </tr>\n    <tr>\n      <th>96</th>\n      <td>1</td>\n      <td>1987</td>\n      <td>10</td>\n      <td>1</td>\n      <td>4</td>\n      <td>0</td>\n      <td>5</td>\n      <td>4</td>\n      <td>370</td>\n    </tr>\n    <tr>\n      <th>97</th>\n      <td>1</td>\n      <td>1987</td>\n      <td>10</td>\n      <td>3</td>\n      <td>6</td>\n      <td>0</td>\n      <td>5</td>\n      <td>4</td>\n      <td>370</td>\n    </tr>\n    <tr>\n      <th>98</th>\n      <td>1</td>\n      <td>1987</td>\n      <td>10</td>\n      <td>5</td>\n      <td>1</td>\n      <td>0</td>\n      <td>5</td>\n      <td>4</td>\n      <td>370</td>\n    </tr>\n    <tr>\n      <th>99</th>\n      <td>1</td>\n      <td>1987</td>\n      <td>10</td>\n      <td>6</td>\n      <td>2</td>\n      <td>0</td>\n      <td>5</td>\n      <td>4</td>\n      <td>370</td>\n    </tr>\n  </tbody>\n</table>\n<p>100 rows × 9 columns</p>\n</div>"
     },
     "execution_count": 12,
     "metadata": {},
     "output_type": "execute_result"
    }
   ],
   "source": [
    "data_train"
   ],
   "metadata": {
    "collapsed": false,
    "pycharm": {
     "name": "#%%\n"
    }
   }
  },
  {
   "cell_type": "code",
   "execution_count": 20,
   "outputs": [],
   "source": [
    "clf = tree.DecisionTreeClassifier(criterion=\"entropy\").fit(data_train.drop([prediction_column], axis=1), data_train[prediction_column])"
   ],
   "metadata": {
    "collapsed": false,
    "pycharm": {
     "name": "#%%\n"
    }
   }
  },
  {
   "cell_type": "code",
   "execution_count": 21,
   "outputs": [],
   "source": [
    "y_pred = clf.predict(data_test.drop([prediction_column], axis=1))"
   ],
   "metadata": {
    "collapsed": false,
    "pycharm": {
     "name": "#%%\n"
    }
   }
  },
  {
   "cell_type": "code",
   "execution_count": 22,
   "outputs": [],
   "source": [
    "y_test = data_test[prediction_column] "
   ],
   "metadata": {
    "collapsed": false,
    "pycharm": {
     "name": "#%%\n"
    }
   }
  },
  {
   "cell_type": "code",
   "execution_count": 23,
   "outputs": [],
   "source": [
    "conf_matrix = confusion_matrix(y_true=y_test, y_pred=y_pred)\n"
   ],
   "metadata": {
    "collapsed": false,
    "pycharm": {
     "name": "#%%\n"
    }
   }
  },
  {
   "cell_type": "code",
   "execution_count": 24,
   "outputs": [
    {
     "name": "stdout",
     "output_type": "stream",
     "text": [
      "Accuracy: 0.460\n",
      "Precision: 0.481\n",
      "Recall: 0.765\n",
      "F1: 0.591\n"
     ]
    }
   ],
   "source": [
    "print('Accuracy: %.3f' % accuracy_score(y_test, y_pred))\n",
    "print('Precision: %.3f' % precision_score(y_test, y_pred))\n",
    "print('Recall: %.3f' % recall_score(y_test, y_pred))\n",
    "print('F1: %.3f' % f1_score(y_test, y_pred))\n"
   ],
   "metadata": {
    "collapsed": false,
    "pycharm": {
     "name": "#%%\n"
    }
   }
  },
  {
   "cell_type": "code",
   "execution_count": 25,
   "outputs": [
    {
     "data": {
      "text/plain": "array([1, 0, 1, 0, 1, 1, 0, 1, 1, 1, 1, 1, 1, 1, 1, 1, 1, 1, 0, 0, 1, 1,\n       1, 1, 1, 1, 1, 1, 1, 1, 1, 1, 1, 1, 0, 0, 1, 1, 1, 1, 1, 1, 0, 1,\n       1, 1, 1, 1, 1, 1, 0, 0, 1, 0, 1, 1, 1, 1, 1, 1, 1, 0, 1, 1, 1, 1,\n       1, 1, 1, 1, 1, 1, 1, 0, 0, 1, 1, 0, 1, 1, 1, 1, 1, 1, 1, 1, 1, 1,\n       0, 1, 1, 0, 0, 1, 1, 1, 1, 0, 1, 1])"
     },
     "execution_count": 25,
     "metadata": {},
     "output_type": "execute_result"
    }
   ],
   "source": [
    "y_pred"
   ],
   "metadata": {
    "collapsed": false,
    "pycharm": {
     "name": "#%%\n"
    }
   }
  },
  {
   "cell_type": "code",
   "execution_count": 4,
   "outputs": [],
   "source": [
    "def preprocess_airlines_data(data: pd.DataFrame):\n",
    "    # for c in data.columns:\n",
    "    #     # print(data[c].dtype)\n",
    "    #     # print(data[c].value_counts())\n",
    "    data.IsDepDelayed = data.IsDepDelayed.apply(lambda v: v if v in [0, 1] else (1 if v == 'YES' else 0))\n",
    "    data.fYear = data.fYear.apply(lambda v: v.replace(\"f\", \"\"))\n",
    "    data.fMonth = data.fMonth.apply(lambda v: v.replace(\"f\", \"\"))\n",
    "    data.fDayofMonth = data.fDayofMonth.apply(lambda v: v.replace(\"f\", \"\"))\n",
    "    data.fDayOfWeek = data.fDayOfWeek.apply(lambda v: v.replace(\"f\", \"\"))\n",
    "    # unique_carrier = {\"US\": 0, \"UA\": 1, \"HP\": 2, \"PS\": 3, \"WN\": 4, \"DL\": 5, \"PI\": 6, \"AA\": 7, \"TW\": 8, \"CO\": 9}\n",
    "    unique_carrier = list(data.UniqueCarrier.unique())\n",
    "    data.UniqueCarrier = data.UniqueCarrier.apply(lambda v: unique_carrier.index(v) if v in unique_carrier else v)\n",
    "    origin = list(data.Origin.unique())\n",
    "    data.Origin = data.Origin.apply(lambda v: origin.index(v) if v in origin else v)\n",
    "    dest = list(data.Dest.unique())\n",
    "    data.Dest = data.Dest.apply(lambda v: dest.index(v) if v in dest else v)\n",
    "    print(data)\n",
    "    return data.sample(len(data), random_state=5)"
   ],
   "metadata": {
    "collapsed": false,
    "pycharm": {
     "name": "#%%\n"
    }
   }
  },
  {
   "cell_type": "code",
   "execution_count": 34,
   "outputs": [
    {
     "name": "stdout",
     "output_type": "stream",
     "text": [
      "       IsDepDelayed fYear fMonth fDayofMonth fDayOfWeek  UniqueCarrier  \\\n",
      "0                 1  1987     10          14          3              0   \n",
      "1                 0  1987     10          18          7              0   \n",
      "2                 1  1987     10          19          1              0   \n",
      "3                 0  1987     10          21          3              0   \n",
      "4                 1  1987     10          23          5              0   \n",
      "...             ...   ...    ...         ...        ...            ...   \n",
      "24416             1  2000      1           5          3              2   \n",
      "24417             1  2000      1           6          4              2   \n",
      "24418             1  2000      1           7          5              2   \n",
      "24419             1  2000      1           8          6              2   \n",
      "24420             1  2000      1           9          7              2   \n",
      "\n",
      "       Origin  Dest  Distance  \n",
      "0           0     0       447  \n",
      "1           0     0       447  \n",
      "2           0     0       447  \n",
      "3           0     0       447  \n",
      "4           0     0       447  \n",
      "...       ...   ...       ...  \n",
      "24416      32    13       602  \n",
      "24417      32    13       602  \n",
      "24418      32    13       602  \n",
      "24419      32    13       602  \n",
      "24420      32    13       602  \n",
      "\n",
      "[24421 rows x 9 columns]\n",
      "       IsDepDelayed fYear fMonth fDayofMonth fDayOfWeek  UniqueCarrier  \\\n",
      "0                 1  1987     10          14          3              0   \n",
      "1                 0  1987     10          18          7              0   \n",
      "2                 1  1987     10          19          1              0   \n",
      "3                 0  1987     10          21          3              0   \n",
      "4                 1  1987     10          23          5              0   \n",
      "...             ...   ...    ...         ...        ...            ...   \n",
      "24416             1  2000      1           5          3              2   \n",
      "24417             1  2000      1           6          4              2   \n",
      "24418             1  2000      1           7          5              2   \n",
      "24419             1  2000      1           8          6              2   \n",
      "24420             1  2000      1           9          7              2   \n",
      "\n",
      "       Origin  Dest  Distance  \n",
      "0           0     0       447  \n",
      "1           0     0       447  \n",
      "2           0     0       447  \n",
      "3           0     0       447  \n",
      "4           0     0       447  \n",
      "...       ...   ...       ...  \n",
      "24416      32    13       602  \n",
      "24417      32    13       602  \n",
      "24418      32    13       602  \n",
      "24419      32    13       602  \n",
      "24420      32    13       602  \n",
      "\n",
      "[24421 rows x 9 columns]\n",
      "       IsDepDelayed fYear fMonth fDayofMonth fDayOfWeek  UniqueCarrier  \\\n",
      "0                 1  1987     10          14          3              0   \n",
      "1                 0  1987     10          18          7              0   \n",
      "2                 1  1987     10          19          1              0   \n",
      "3                 0  1987     10          21          3              0   \n",
      "4                 1  1987     10          23          5              0   \n",
      "...             ...   ...    ...         ...        ...            ...   \n",
      "24416             1  2000      1           5          3              2   \n",
      "24417             1  2000      1           6          4              2   \n",
      "24418             1  2000      1           7          5              2   \n",
      "24419             1  2000      1           8          6              2   \n",
      "24420             1  2000      1           9          7              2   \n",
      "\n",
      "       Origin  Dest  Distance  \n",
      "0           0     0       447  \n",
      "1           0     0       447  \n",
      "2           0     0       447  \n",
      "3           0     0       447  \n",
      "4           0     0       447  \n",
      "...       ...   ...       ...  \n",
      "24416      32    13       602  \n",
      "24417      32    13       602  \n",
      "24418      32    13       602  \n",
      "24419      32    13       602  \n",
      "24420      32    13       602  \n",
      "\n",
      "[24421 rows x 9 columns]\n",
      "       IsDepDelayed fYear fMonth fDayofMonth fDayOfWeek  UniqueCarrier  \\\n",
      "0                 1  1987     10          14          3              0   \n",
      "1                 0  1987     10          18          7              0   \n",
      "2                 1  1987     10          19          1              0   \n",
      "3                 0  1987     10          21          3              0   \n",
      "4                 1  1987     10          23          5              0   \n",
      "...             ...   ...    ...         ...        ...            ...   \n",
      "24416             1  2000      1           5          3              2   \n",
      "24417             1  2000      1           6          4              2   \n",
      "24418             1  2000      1           7          5              2   \n",
      "24419             1  2000      1           8          6              2   \n",
      "24420             1  2000      1           9          7              2   \n",
      "\n",
      "       Origin  Dest  Distance  \n",
      "0           0     0       447  \n",
      "1           0     0       447  \n",
      "2           0     0       447  \n",
      "3           0     0       447  \n",
      "4           0     0       447  \n",
      "...       ...   ...       ...  \n",
      "24416      32    13       602  \n",
      "24417      32    13       602  \n",
      "24418      32    13       602  \n",
      "24419      32    13       602  \n",
      "24420      32    13       602  \n",
      "\n",
      "[24421 rows x 9 columns]\n",
      "       IsDepDelayed fYear fMonth fDayofMonth fDayOfWeek  UniqueCarrier  \\\n",
      "0                 1  1987     10          14          3              0   \n",
      "1                 0  1987     10          18          7              0   \n",
      "2                 1  1987     10          19          1              0   \n",
      "3                 0  1987     10          21          3              0   \n",
      "4                 1  1987     10          23          5              0   \n",
      "...             ...   ...    ...         ...        ...            ...   \n",
      "24416             1  2000      1           5          3              2   \n",
      "24417             1  2000      1           6          4              2   \n",
      "24418             1  2000      1           7          5              2   \n",
      "24419             1  2000      1           8          6              2   \n",
      "24420             1  2000      1           9          7              2   \n",
      "\n",
      "       Origin  Dest  Distance  \n",
      "0           0     0       447  \n",
      "1           0     0       447  \n",
      "2           0     0       447  \n",
      "3           0     0       447  \n",
      "4           0     0       447  \n",
      "...       ...   ...       ...  \n",
      "24416      32    13       602  \n",
      "24417      32    13       602  \n",
      "24418      32    13       602  \n",
      "24419      32    13       602  \n",
      "24420      32    13       602  \n",
      "\n",
      "[24421 rows x 9 columns]\n",
      "       IsDepDelayed fYear fMonth fDayofMonth fDayOfWeek  UniqueCarrier  \\\n",
      "0                 1  1987     10          14          3              0   \n",
      "1                 0  1987     10          18          7              0   \n",
      "2                 1  1987     10          19          1              0   \n",
      "3                 0  1987     10          21          3              0   \n",
      "4                 1  1987     10          23          5              0   \n",
      "...             ...   ...    ...         ...        ...            ...   \n",
      "24416             1  2000      1           5          3              2   \n",
      "24417             1  2000      1           6          4              2   \n",
      "24418             1  2000      1           7          5              2   \n",
      "24419             1  2000      1           8          6              2   \n",
      "24420             1  2000      1           9          7              2   \n",
      "\n",
      "       Origin  Dest  Distance  \n",
      "0           0     0       447  \n",
      "1           0     0       447  \n",
      "2           0     0       447  \n",
      "3           0     0       447  \n",
      "4           0     0       447  \n",
      "...       ...   ...       ...  \n",
      "24416      32    13       602  \n",
      "24417      32    13       602  \n",
      "24418      32    13       602  \n",
      "24419      32    13       602  \n",
      "24420      32    13       602  \n",
      "\n",
      "[24421 rows x 9 columns]\n",
      "       IsDepDelayed fYear fMonth fDayofMonth fDayOfWeek  UniqueCarrier  \\\n",
      "0                 1  1987     10          14          3              0   \n",
      "1                 0  1987     10          18          7              0   \n",
      "2                 1  1987     10          19          1              0   \n",
      "3                 0  1987     10          21          3              0   \n",
      "4                 1  1987     10          23          5              0   \n",
      "...             ...   ...    ...         ...        ...            ...   \n",
      "24416             1  2000      1           5          3              2   \n",
      "24417             1  2000      1           6          4              2   \n",
      "24418             1  2000      1           7          5              2   \n",
      "24419             1  2000      1           8          6              2   \n",
      "24420             1  2000      1           9          7              2   \n",
      "\n",
      "       Origin  Dest  Distance  \n",
      "0           0     0       447  \n",
      "1           0     0       447  \n",
      "2           0     0       447  \n",
      "3           0     0       447  \n",
      "4           0     0       447  \n",
      "...       ...   ...       ...  \n",
      "24416      32    13       602  \n",
      "24417      32    13       602  \n",
      "24418      32    13       602  \n",
      "24419      32    13       602  \n",
      "24420      32    13       602  \n",
      "\n",
      "[24421 rows x 9 columns]\n",
      "       IsDepDelayed fYear fMonth fDayofMonth fDayOfWeek  UniqueCarrier  \\\n",
      "0                 1  1987     10          14          3              0   \n",
      "1                 0  1987     10          18          7              0   \n",
      "2                 1  1987     10          19          1              0   \n",
      "3                 0  1987     10          21          3              0   \n",
      "4                 1  1987     10          23          5              0   \n",
      "...             ...   ...    ...         ...        ...            ...   \n",
      "24416             1  2000      1           5          3              2   \n",
      "24417             1  2000      1           6          4              2   \n",
      "24418             1  2000      1           7          5              2   \n",
      "24419             1  2000      1           8          6              2   \n",
      "24420             1  2000      1           9          7              2   \n",
      "\n",
      "       Origin  Dest  Distance  \n",
      "0           0     0       447  \n",
      "1           0     0       447  \n",
      "2           0     0       447  \n",
      "3           0     0       447  \n",
      "4           0     0       447  \n",
      "...       ...   ...       ...  \n",
      "24416      32    13       602  \n",
      "24417      32    13       602  \n",
      "24418      32    13       602  \n",
      "24419      32    13       602  \n",
      "24420      32    13       602  \n",
      "\n",
      "[24421 rows x 9 columns]\n",
      "       IsDepDelayed fYear fMonth fDayofMonth fDayOfWeek  UniqueCarrier  \\\n",
      "0                 1  1987     10          14          3              0   \n",
      "1                 0  1987     10          18          7              0   \n",
      "2                 1  1987     10          19          1              0   \n",
      "3                 0  1987     10          21          3              0   \n",
      "4                 1  1987     10          23          5              0   \n",
      "...             ...   ...    ...         ...        ...            ...   \n",
      "24416             1  2000      1           5          3              2   \n",
      "24417             1  2000      1           6          4              2   \n",
      "24418             1  2000      1           7          5              2   \n",
      "24419             1  2000      1           8          6              2   \n",
      "24420             1  2000      1           9          7              2   \n",
      "\n",
      "       Origin  Dest  Distance  \n",
      "0           0     0       447  \n",
      "1           0     0       447  \n",
      "2           0     0       447  \n",
      "3           0     0       447  \n",
      "4           0     0       447  \n",
      "...       ...   ...       ...  \n",
      "24416      32    13       602  \n",
      "24417      32    13       602  \n",
      "24418      32    13       602  \n",
      "24419      32    13       602  \n",
      "24420      32    13       602  \n",
      "\n",
      "[24421 rows x 9 columns]\n",
      "      IsDepDelayed fYear fMonth fDayofMonth fDayOfWeek  UniqueCarrier  Origin  \\\n",
      "0                0  1987     10          15          4              0       0   \n",
      "1                1  1987     10          17          6              0       0   \n",
      "2                0  1987     10          22          4              0       0   \n",
      "3                1  1987     10          24          6              0       1   \n",
      "4                0  1987     10           6          2              0       2   \n",
      "...            ...   ...    ...         ...        ...            ...     ...   \n",
      "2686             1  2000      1          16          7              2      32   \n",
      "2687             1  2000      1          21          5              2      32   \n",
      "2688             1  2000      1           3          1              2      32   \n",
      "2689             1  2000      1          27          4              2      32   \n",
      "2690             1  2000      1          10          1              2      32   \n",
      "\n",
      "      Dest  Distance  \n",
      "0        0       447  \n",
      "1        0       447  \n",
      "2        0       447  \n",
      "3        1       192  \n",
      "4        2       325  \n",
      "...    ...       ...  \n",
      "2686    41       602  \n",
      "2687    41       602  \n",
      "2688    41       602  \n",
      "2689    41       602  \n",
      "2690    41       602  \n",
      "\n",
      "[2691 rows x 9 columns]\n",
      "      IsDepDelayed fYear fMonth fDayofMonth fDayOfWeek  UniqueCarrier  Origin  \\\n",
      "0                0  1987     10          15          4              0       0   \n",
      "1                1  1987     10          17          6              0       0   \n",
      "2                0  1987     10          22          4              0       0   \n",
      "3                1  1987     10          24          6              0       1   \n",
      "4                0  1987     10           6          2              0       2   \n",
      "...            ...   ...    ...         ...        ...            ...     ...   \n",
      "2686             1  2000      1          16          7              2      32   \n",
      "2687             1  2000      1          21          5              2      32   \n",
      "2688             1  2000      1           3          1              2      32   \n",
      "2689             1  2000      1          27          4              2      32   \n",
      "2690             1  2000      1          10          1              2      32   \n",
      "\n",
      "      Dest  Distance  \n",
      "0        0       447  \n",
      "1        0       447  \n",
      "2        0       447  \n",
      "3        1       192  \n",
      "4        2       325  \n",
      "...    ...       ...  \n",
      "2686    41       602  \n",
      "2687    41       602  \n",
      "2688    41       602  \n",
      "2689    41       602  \n",
      "2690    41       602  \n",
      "\n",
      "[2691 rows x 9 columns]\n",
      "      IsDepDelayed fYear fMonth fDayofMonth fDayOfWeek  UniqueCarrier  Origin  \\\n",
      "0                0  1987     10          15          4              0       0   \n",
      "1                1  1987     10          17          6              0       0   \n",
      "2                0  1987     10          22          4              0       0   \n",
      "3                1  1987     10          24          6              0       1   \n",
      "4                0  1987     10           6          2              0       2   \n",
      "...            ...   ...    ...         ...        ...            ...     ...   \n",
      "2686             1  2000      1          16          7              2      32   \n",
      "2687             1  2000      1          21          5              2      32   \n",
      "2688             1  2000      1           3          1              2      32   \n",
      "2689             1  2000      1          27          4              2      32   \n",
      "2690             1  2000      1          10          1              2      32   \n",
      "\n",
      "      Dest  Distance  \n",
      "0        0       447  \n",
      "1        0       447  \n",
      "2        0       447  \n",
      "3        1       192  \n",
      "4        2       325  \n",
      "...    ...       ...  \n",
      "2686    41       602  \n",
      "2687    41       602  \n",
      "2688    41       602  \n",
      "2689    41       602  \n",
      "2690    41       602  \n",
      "\n",
      "[2691 rows x 9 columns]\n",
      "      IsDepDelayed fYear fMonth fDayofMonth fDayOfWeek  UniqueCarrier  Origin  \\\n",
      "0                0  1987     10          15          4              0       0   \n",
      "1                1  1987     10          17          6              0       0   \n",
      "2                0  1987     10          22          4              0       0   \n",
      "3                1  1987     10          24          6              0       1   \n",
      "4                0  1987     10           6          2              0       2   \n",
      "...            ...   ...    ...         ...        ...            ...     ...   \n",
      "2686             1  2000      1          16          7              2      32   \n",
      "2687             1  2000      1          21          5              2      32   \n",
      "2688             1  2000      1           3          1              2      32   \n",
      "2689             1  2000      1          27          4              2      32   \n",
      "2690             1  2000      1          10          1              2      32   \n",
      "\n",
      "      Dest  Distance  \n",
      "0        0       447  \n",
      "1        0       447  \n",
      "2        0       447  \n",
      "3        1       192  \n",
      "4        2       325  \n",
      "...    ...       ...  \n",
      "2686    41       602  \n",
      "2687    41       602  \n",
      "2688    41       602  \n",
      "2689    41       602  \n",
      "2690    41       602  \n",
      "\n",
      "[2691 rows x 9 columns]\n",
      "      IsDepDelayed fYear fMonth fDayofMonth fDayOfWeek  UniqueCarrier  Origin  \\\n",
      "0                0  1987     10          15          4              0       0   \n",
      "1                1  1987     10          17          6              0       0   \n",
      "2                0  1987     10          22          4              0       0   \n",
      "3                1  1987     10          24          6              0       1   \n",
      "4                0  1987     10           6          2              0       2   \n",
      "...            ...   ...    ...         ...        ...            ...     ...   \n",
      "2686             1  2000      1          16          7              2      32   \n",
      "2687             1  2000      1          21          5              2      32   \n",
      "2688             1  2000      1           3          1              2      32   \n",
      "2689             1  2000      1          27          4              2      32   \n",
      "2690             1  2000      1          10          1              2      32   \n",
      "\n",
      "      Dest  Distance  \n",
      "0        0       447  \n",
      "1        0       447  \n",
      "2        0       447  \n",
      "3        1       192  \n",
      "4        2       325  \n",
      "...    ...       ...  \n",
      "2686    41       602  \n",
      "2687    41       602  \n",
      "2688    41       602  \n",
      "2689    41       602  \n",
      "2690    41       602  \n",
      "\n",
      "[2691 rows x 9 columns]\n",
      "      IsDepDelayed fYear fMonth fDayofMonth fDayOfWeek  UniqueCarrier  Origin  \\\n",
      "0                0  1987     10          15          4              0       0   \n",
      "1                1  1987     10          17          6              0       0   \n",
      "2                0  1987     10          22          4              0       0   \n",
      "3                1  1987     10          24          6              0       1   \n",
      "4                0  1987     10           6          2              0       2   \n",
      "...            ...   ...    ...         ...        ...            ...     ...   \n",
      "2686             1  2000      1          16          7              2      32   \n",
      "2687             1  2000      1          21          5              2      32   \n",
      "2688             1  2000      1           3          1              2      32   \n",
      "2689             1  2000      1          27          4              2      32   \n",
      "2690             1  2000      1          10          1              2      32   \n",
      "\n",
      "      Dest  Distance  \n",
      "0        0       447  \n",
      "1        0       447  \n",
      "2        0       447  \n",
      "3        1       192  \n",
      "4        2       325  \n",
      "...    ...       ...  \n",
      "2686    41       602  \n",
      "2687    41       602  \n",
      "2688    41       602  \n",
      "2689    41       602  \n",
      "2690    41       602  \n",
      "\n",
      "[2691 rows x 9 columns]\n",
      "      IsDepDelayed fYear fMonth fDayofMonth fDayOfWeek  UniqueCarrier  Origin  \\\n",
      "0                0  1987     10          15          4              0       0   \n",
      "1                1  1987     10          17          6              0       0   \n",
      "2                0  1987     10          22          4              0       0   \n",
      "3                1  1987     10          24          6              0       1   \n",
      "4                0  1987     10           6          2              0       2   \n",
      "...            ...   ...    ...         ...        ...            ...     ...   \n",
      "2686             1  2000      1          16          7              2      32   \n",
      "2687             1  2000      1          21          5              2      32   \n",
      "2688             1  2000      1           3          1              2      32   \n",
      "2689             1  2000      1          27          4              2      32   \n",
      "2690             1  2000      1          10          1              2      32   \n",
      "\n",
      "      Dest  Distance  \n",
      "0        0       447  \n",
      "1        0       447  \n",
      "2        0       447  \n",
      "3        1       192  \n",
      "4        2       325  \n",
      "...    ...       ...  \n",
      "2686    41       602  \n",
      "2687    41       602  \n",
      "2688    41       602  \n",
      "2689    41       602  \n",
      "2690    41       602  \n",
      "\n",
      "[2691 rows x 9 columns]\n",
      "      IsDepDelayed fYear fMonth fDayofMonth fDayOfWeek  UniqueCarrier  Origin  \\\n",
      "0                0  1987     10          15          4              0       0   \n",
      "1                1  1987     10          17          6              0       0   \n",
      "2                0  1987     10          22          4              0       0   \n",
      "3                1  1987     10          24          6              0       1   \n",
      "4                0  1987     10           6          2              0       2   \n",
      "...            ...   ...    ...         ...        ...            ...     ...   \n",
      "2686             1  2000      1          16          7              2      32   \n",
      "2687             1  2000      1          21          5              2      32   \n",
      "2688             1  2000      1           3          1              2      32   \n",
      "2689             1  2000      1          27          4              2      32   \n",
      "2690             1  2000      1          10          1              2      32   \n",
      "\n",
      "      Dest  Distance  \n",
      "0        0       447  \n",
      "1        0       447  \n",
      "2        0       447  \n",
      "3        1       192  \n",
      "4        2       325  \n",
      "...    ...       ...  \n",
      "2686    41       602  \n",
      "2687    41       602  \n",
      "2688    41       602  \n",
      "2689    41       602  \n",
      "2690    41       602  \n",
      "\n",
      "[2691 rows x 9 columns]\n",
      "      IsDepDelayed fYear fMonth fDayofMonth fDayOfWeek  UniqueCarrier  Origin  \\\n",
      "0                0  1987     10          15          4              0       0   \n",
      "1                1  1987     10          17          6              0       0   \n",
      "2                0  1987     10          22          4              0       0   \n",
      "3                1  1987     10          24          6              0       1   \n",
      "4                0  1987     10           6          2              0       2   \n",
      "...            ...   ...    ...         ...        ...            ...     ...   \n",
      "2686             1  2000      1          16          7              2      32   \n",
      "2687             1  2000      1          21          5              2      32   \n",
      "2688             1  2000      1           3          1              2      32   \n",
      "2689             1  2000      1          27          4              2      32   \n",
      "2690             1  2000      1          10          1              2      32   \n",
      "\n",
      "      Dest  Distance  \n",
      "0        0       447  \n",
      "1        0       447  \n",
      "2        0       447  \n",
      "3        1       192  \n",
      "4        2       325  \n",
      "...    ...       ...  \n",
      "2686    41       602  \n",
      "2687    41       602  \n",
      "2688    41       602  \n",
      "2689    41       602  \n",
      "2690    41       602  \n",
      "\n",
      "[2691 rows x 9 columns]\n"
     ]
    }
   ],
   "source": [
    "preprocess_airlines_data(pd.read_csv(\"../../smalldata/testng/airlines_train.csv\")).to_csv(\"../../smalldata/testng/airlines_train_preprocessed.csv\", index=False)\n",
    "preprocess_airlines_data(pd.read_csv(\"../../smalldata/testng/airlines_test.csv\")).to_csv(\"../../smalldata/testng/airlines_test_preprocessed.csv\", index=False)"
   ],
   "metadata": {
    "collapsed": false,
    "pycharm": {
     "name": "#%%\n"
    }
   }
  },
  {
   "cell_type": "markdown",
   "source": [],
   "metadata": {
    "collapsed": false,
    "pycharm": {
     "name": "#%% md\n"
    }
   }
  },
  {
   "cell_type": "code",
   "execution_count": null,
   "outputs": [],
   "source": [],
   "metadata": {
    "collapsed": false,
    "pycharm": {
     "name": "#%%\n"
    }
   }
  },
  {
   "cell_type": "code",
   "execution_count": 3,
   "outputs": [
    {
     "name": "stdout",
     "output_type": "stream",
     "text": [
      "         label  lepton_pT  lepton_eta  lepton_phi  missing_energy_magnitude  \\\n",
      "1576552    1.0   2.163167   -1.019799   -0.679949                  0.440596   \n",
      "252675     0.0   1.299914    1.911847   -1.665937                  0.139296   \n",
      "1316145    0.0   0.411038    0.733344    0.948120                  0.411721   \n",
      "1513936    0.0   0.296841   -0.084789   -1.357989                  2.188860   \n",
      "9420267    1.0   0.831776   -0.910715    0.874323                  0.878346   \n",
      "\n",
      "         missing_energy_phi  jet_1_pt  jet_1_eta  jet_1_phi  jet_1_b-tag  ...  \\\n",
      "1576552            1.216867  0.923126  -2.253789  -1.176329          0.0  ...   \n",
      "252675            -1.450490  0.820617   0.524796  -0.141307          0.0  ...   \n",
      "1316145           -0.385533  0.342977   2.231953  -0.467834          0.0  ...   \n",
      "1513936           -0.317427  1.237064  -2.444903  -0.789929          0.0  ...   \n",
      "9420267            1.572243  2.017557   1.936864  -0.549882          0.0  ...   \n",
      "\n",
      "         jet_4_eta  jet_4_phi  jet_4_b-tag      m_jj     m_jjj      m_lv  \\\n",
      "1576552  -0.778318   1.064715          0.0  0.764826  0.754223  1.339441   \n",
      "252675    1.292914   1.295558          0.0  0.643653  1.016861  0.986527   \n",
      "1316145   0.767402   0.642982          0.0  0.831692  1.027396  0.990788   \n",
      "1513936  -0.164527  -1.571778          0.0  1.086390  0.982924  0.988270   \n",
      "9420267   0.934800   0.665178          0.0  0.679126  0.876323  0.984128   \n",
      "\n",
      "            m_jlv      m_bb     m_wbb    m_wwbb  \n",
      "1576552  0.902044  0.682659  0.901415  0.765336  \n",
      "252675   1.180314  1.444084  1.034702  0.912141  \n",
      "1316145  0.688291  0.563166  0.790673  0.700372  \n",
      "1513936  0.785775  0.646579  0.727649  0.823743  \n",
      "9420267  0.791313  0.837684  1.321023  1.041885  \n",
      "\n",
      "[5 rows x 29 columns]\n"
     ]
    }
   ],
   "source": [
    "dataset = 'HIGGS'\n",
    "columns = ['label', 'lepton_pT', 'lepton_eta', 'lepton_phi', 'missing_energy_magnitude', 'missing_energy_phi', 'jet_1_pt', 'jet_1_eta', 'jet_1_phi', 'jet_1_b-tag', 'jet_2_pt', 'jet_2_eta', 'je_2_phi', 'jet_2_b-tag', 'je_3_pt', 'jet_3_eta', 'jet_3_phi', 'jet_3_b-tag', 'jet_4_pt', 'jet_4_eta', 'jet_4_phi', 'jet_4_b-tag', 'm_jj', 'm_jjj', 'm_lv', 'm_jlv', 'm_bb', 'm_wbb', 'm_wwbb']\n",
    "train, test = train_test_split(pd.read_csv(\"../../smalldata/yuliia/\" + dataset + \".csv\", names=columns).sample(10000000), train_size=0.8)\n",
    "# train = preprocess_airlines_data(train)\n",
    "# test = preprocess_airlines_data(test)\n",
    "print(train.head())\n",
    "train.to_csv(\"../../smalldata/yuliia/\" + dataset + \"_train_limited.csv\", index=False)\n",
    "test.to_csv(\"../../smalldata/yuliia/\" + dataset + \"_test_limited.csv\", index=False)\n"
   ],
   "metadata": {
    "collapsed": false,
    "pycharm": {
     "name": "#%%\n"
    }
   }
  },
  {
   "cell_type": "code",
   "execution_count": 7,
   "outputs": [],
   "source": [
    "pd.read_csv(\"../../smalldata/yuliia/\" + dataset + \"_train_limited.csv\", index_col=False).sample(1000000).to_csv(\"../../smalldata/yuliia/\" + dataset + \"_train_limited1.csv\", index=False)\n",
    "pd.read_csv(\"../../smalldata/yuliia/\" + dataset + \"_test_limited.csv\", index_col=False).sample(20000).to_csv(\"../../smalldata/yuliia/\" + dataset + \"_test_limited1.csv\", index=False)"
   ],
   "metadata": {
    "collapsed": false,
    "pycharm": {
     "name": "#%%\n"
    }
   }
  },
  {
   "cell_type": "code",
   "execution_count": 4,
   "outputs": [],
   "source": [
    "dataset = 'HIGGS'\n"
   ],
   "metadata": {
    "collapsed": false,
    "pycharm": {
     "name": "#%%\n"
    }
   }
  },
  {
   "cell_type": "code",
   "execution_count": null,
   "outputs": [],
   "source": [],
   "metadata": {
    "collapsed": false,
    "pycharm": {
     "name": "#%%\n"
    }
   }
  }
 ],
 "metadata": {
  "kernelspec": {
   "display_name": "Python 3",
   "language": "python",
   "name": "python3"
  },
  "language_info": {
   "codemirror_mode": {
    "name": "ipython",
    "version": 2
   },
   "file_extension": ".py",
   "mimetype": "text/x-python",
   "name": "python",
   "nbconvert_exporter": "python",
   "pygments_lexer": "ipython2",
   "version": "2.7.6"
  }
 },
 "nbformat": 4,
 "nbformat_minor": 0
}