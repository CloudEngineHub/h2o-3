{
 "cells": [
  {
   "cell_type": "code",
   "execution_count": 18,
   "metadata": {
    "collapsed": true
   },
   "outputs": [],
   "source": [
    "from sklearn.model_selection import train_test_split\n",
    "import pandas as pd"
   ]
  },
  {
   "cell_type": "code",
   "execution_count": 19,
   "outputs": [],
   "source": [
    "file_to_split_path = \"../../smalldata/prostate/prostate.csv\"\n",
    "train_path = \"../../smalldata/prostate/prostate_train.csv\"\n",
    "test_path = \"../../smalldata/prostate/prostate_test.csv\""
   ],
   "metadata": {
    "collapsed": false,
    "pycharm": {
     "name": "#%%\n"
    }
   }
  },
  {
   "cell_type": "code",
   "execution_count": 19,
   "outputs": [],
   "source": [],
   "metadata": {
    "collapsed": false,
    "pycharm": {
     "name": "#%%\n"
    }
   }
  },
  {
   "cell_type": "code",
   "execution_count": 20,
   "outputs": [],
   "source": [
    "train, test = train_test_split(pd.read_csv(file_to_split_path), test_size=0.2, random_state=42)"
   ],
   "metadata": {
    "collapsed": false,
    "pycharm": {
     "name": "#%%\n"
    }
   }
  },
  {
   "cell_type": "code",
   "execution_count": 21,
   "outputs": [
    {
     "data": {
      "text/plain": "      ID  CAPSULE  AGE  RACE  DPROS  DCAPS   PSA   VOL  GLEASON\n77    78        1   62     1      2      1   1.9   0.0        6\n220  221        1   51     1      2      1   7.4   0.0        6\n297  298        0   72     1      1      1  22.1   0.0        5\n113  114        0   71     1      2      1  17.2  65.6        8\n203  204        0   71     1      2      1   1.7   0.0        6\n..   ...      ...  ...   ...    ...    ...   ...   ...      ...\n71    72        0   71     1      3      1   8.3  17.5        5\n106  107        1   69     1      1      1   6.0   0.0        7\n270  271        0   61     1      1      1   5.4  27.5        6\n348  349        1   61     1      1      1  21.0   0.0        7\n102  103        0   62     1      1      1   2.8  44.0        6\n\n[304 rows x 9 columns]",
      "text/html": "<div>\n<style scoped>\n    .dataframe tbody tr th:only-of-type {\n        vertical-align: middle;\n    }\n\n    .dataframe tbody tr th {\n        vertical-align: top;\n    }\n\n    .dataframe thead th {\n        text-align: right;\n    }\n</style>\n<table border=\"1\" class=\"dataframe\">\n  <thead>\n    <tr style=\"text-align: right;\">\n      <th></th>\n      <th>ID</th>\n      <th>CAPSULE</th>\n      <th>AGE</th>\n      <th>RACE</th>\n      <th>DPROS</th>\n      <th>DCAPS</th>\n      <th>PSA</th>\n      <th>VOL</th>\n      <th>GLEASON</th>\n    </tr>\n  </thead>\n  <tbody>\n    <tr>\n      <th>77</th>\n      <td>78</td>\n      <td>1</td>\n      <td>62</td>\n      <td>1</td>\n      <td>2</td>\n      <td>1</td>\n      <td>1.9</td>\n      <td>0.0</td>\n      <td>6</td>\n    </tr>\n    <tr>\n      <th>220</th>\n      <td>221</td>\n      <td>1</td>\n      <td>51</td>\n      <td>1</td>\n      <td>2</td>\n      <td>1</td>\n      <td>7.4</td>\n      <td>0.0</td>\n      <td>6</td>\n    </tr>\n    <tr>\n      <th>297</th>\n      <td>298</td>\n      <td>0</td>\n      <td>72</td>\n      <td>1</td>\n      <td>1</td>\n      <td>1</td>\n      <td>22.1</td>\n      <td>0.0</td>\n      <td>5</td>\n    </tr>\n    <tr>\n      <th>113</th>\n      <td>114</td>\n      <td>0</td>\n      <td>71</td>\n      <td>1</td>\n      <td>2</td>\n      <td>1</td>\n      <td>17.2</td>\n      <td>65.6</td>\n      <td>8</td>\n    </tr>\n    <tr>\n      <th>203</th>\n      <td>204</td>\n      <td>0</td>\n      <td>71</td>\n      <td>1</td>\n      <td>2</td>\n      <td>1</td>\n      <td>1.7</td>\n      <td>0.0</td>\n      <td>6</td>\n    </tr>\n    <tr>\n      <th>...</th>\n      <td>...</td>\n      <td>...</td>\n      <td>...</td>\n      <td>...</td>\n      <td>...</td>\n      <td>...</td>\n      <td>...</td>\n      <td>...</td>\n      <td>...</td>\n    </tr>\n    <tr>\n      <th>71</th>\n      <td>72</td>\n      <td>0</td>\n      <td>71</td>\n      <td>1</td>\n      <td>3</td>\n      <td>1</td>\n      <td>8.3</td>\n      <td>17.5</td>\n      <td>5</td>\n    </tr>\n    <tr>\n      <th>106</th>\n      <td>107</td>\n      <td>1</td>\n      <td>69</td>\n      <td>1</td>\n      <td>1</td>\n      <td>1</td>\n      <td>6.0</td>\n      <td>0.0</td>\n      <td>7</td>\n    </tr>\n    <tr>\n      <th>270</th>\n      <td>271</td>\n      <td>0</td>\n      <td>61</td>\n      <td>1</td>\n      <td>1</td>\n      <td>1</td>\n      <td>5.4</td>\n      <td>27.5</td>\n      <td>6</td>\n    </tr>\n    <tr>\n      <th>348</th>\n      <td>349</td>\n      <td>1</td>\n      <td>61</td>\n      <td>1</td>\n      <td>1</td>\n      <td>1</td>\n      <td>21.0</td>\n      <td>0.0</td>\n      <td>7</td>\n    </tr>\n    <tr>\n      <th>102</th>\n      <td>103</td>\n      <td>0</td>\n      <td>62</td>\n      <td>1</td>\n      <td>1</td>\n      <td>1</td>\n      <td>2.8</td>\n      <td>44.0</td>\n      <td>6</td>\n    </tr>\n  </tbody>\n</table>\n<p>304 rows × 9 columns</p>\n</div>"
     },
     "execution_count": 21,
     "metadata": {},
     "output_type": "execute_result"
    }
   ],
   "source": [
    "train"
   ],
   "metadata": {
    "collapsed": false,
    "pycharm": {
     "name": "#%%\n"
    }
   }
  },
  {
   "cell_type": "code",
   "execution_count": 22,
   "outputs": [
    {
     "data": {
      "text/plain": "      ID  CAPSULE  AGE  RACE  DPROS  DCAPS   PSA   VOL  GLEASON\n266  267        1   65     1      3      1   3.4  14.3        7\n261  262        1   62     1      2      1   8.3   0.0        6\n265  266        0   67     1      3      1  20.0  17.5        5\n39    40        1   73     1      3      1   4.5  26.4        7\n33    34        1   60     1      3      2   9.5   0.0        7\n..   ...      ...  ...   ...    ...    ...   ...   ...      ...\n316  317        1   57     2      3      1   7.8  38.9        7\n63    64        0   66     1      3      1   2.6   0.0        7\n229  230        1   54     1      3      1   7.0  29.0        6\n82    83        0   74     1      2      1  31.5   0.0        7\n94    95        0   71     1      1      1  13.4  44.2        7\n\n[76 rows x 9 columns]",
      "text/html": "<div>\n<style scoped>\n    .dataframe tbody tr th:only-of-type {\n        vertical-align: middle;\n    }\n\n    .dataframe tbody tr th {\n        vertical-align: top;\n    }\n\n    .dataframe thead th {\n        text-align: right;\n    }\n</style>\n<table border=\"1\" class=\"dataframe\">\n  <thead>\n    <tr style=\"text-align: right;\">\n      <th></th>\n      <th>ID</th>\n      <th>CAPSULE</th>\n      <th>AGE</th>\n      <th>RACE</th>\n      <th>DPROS</th>\n      <th>DCAPS</th>\n      <th>PSA</th>\n      <th>VOL</th>\n      <th>GLEASON</th>\n    </tr>\n  </thead>\n  <tbody>\n    <tr>\n      <th>266</th>\n      <td>267</td>\n      <td>1</td>\n      <td>65</td>\n      <td>1</td>\n      <td>3</td>\n      <td>1</td>\n      <td>3.4</td>\n      <td>14.3</td>\n      <td>7</td>\n    </tr>\n    <tr>\n      <th>261</th>\n      <td>262</td>\n      <td>1</td>\n      <td>62</td>\n      <td>1</td>\n      <td>2</td>\n      <td>1</td>\n      <td>8.3</td>\n      <td>0.0</td>\n      <td>6</td>\n    </tr>\n    <tr>\n      <th>265</th>\n      <td>266</td>\n      <td>0</td>\n      <td>67</td>\n      <td>1</td>\n      <td>3</td>\n      <td>1</td>\n      <td>20.0</td>\n      <td>17.5</td>\n      <td>5</td>\n    </tr>\n    <tr>\n      <th>39</th>\n      <td>40</td>\n      <td>1</td>\n      <td>73</td>\n      <td>1</td>\n      <td>3</td>\n      <td>1</td>\n      <td>4.5</td>\n      <td>26.4</td>\n      <td>7</td>\n    </tr>\n    <tr>\n      <th>33</th>\n      <td>34</td>\n      <td>1</td>\n      <td>60</td>\n      <td>1</td>\n      <td>3</td>\n      <td>2</td>\n      <td>9.5</td>\n      <td>0.0</td>\n      <td>7</td>\n    </tr>\n    <tr>\n      <th>...</th>\n      <td>...</td>\n      <td>...</td>\n      <td>...</td>\n      <td>...</td>\n      <td>...</td>\n      <td>...</td>\n      <td>...</td>\n      <td>...</td>\n      <td>...</td>\n    </tr>\n    <tr>\n      <th>316</th>\n      <td>317</td>\n      <td>1</td>\n      <td>57</td>\n      <td>2</td>\n      <td>3</td>\n      <td>1</td>\n      <td>7.8</td>\n      <td>38.9</td>\n      <td>7</td>\n    </tr>\n    <tr>\n      <th>63</th>\n      <td>64</td>\n      <td>0</td>\n      <td>66</td>\n      <td>1</td>\n      <td>3</td>\n      <td>1</td>\n      <td>2.6</td>\n      <td>0.0</td>\n      <td>7</td>\n    </tr>\n    <tr>\n      <th>229</th>\n      <td>230</td>\n      <td>1</td>\n      <td>54</td>\n      <td>1</td>\n      <td>3</td>\n      <td>1</td>\n      <td>7.0</td>\n      <td>29.0</td>\n      <td>6</td>\n    </tr>\n    <tr>\n      <th>82</th>\n      <td>83</td>\n      <td>0</td>\n      <td>74</td>\n      <td>1</td>\n      <td>2</td>\n      <td>1</td>\n      <td>31.5</td>\n      <td>0.0</td>\n      <td>7</td>\n    </tr>\n    <tr>\n      <th>94</th>\n      <td>95</td>\n      <td>0</td>\n      <td>71</td>\n      <td>1</td>\n      <td>1</td>\n      <td>1</td>\n      <td>13.4</td>\n      <td>44.2</td>\n      <td>7</td>\n    </tr>\n  </tbody>\n</table>\n<p>76 rows × 9 columns</p>\n</div>"
     },
     "execution_count": 22,
     "metadata": {},
     "output_type": "execute_result"
    }
   ],
   "source": [
    "test\n"
   ],
   "metadata": {
    "collapsed": false,
    "pycharm": {
     "name": "#%%\n"
    }
   }
  },
  {
   "cell_type": "code",
   "execution_count": 23,
   "outputs": [],
   "source": [
    "train.to_csv(train_path, index=False)\n",
    "test.to_csv(test_path, index=False)\n"
   ],
   "metadata": {
    "collapsed": false,
    "pycharm": {
     "name": "#%%\n"
    }
   }
  },
  {
   "cell_type": "code",
   "execution_count": null,
   "outputs": [],
   "source": [],
   "metadata": {
    "collapsed": false,
    "pycharm": {
     "name": "#%%\n"
    }
   }
  }
 ],
 "metadata": {
  "kernelspec": {
   "name": "adm-env",
   "language": "python",
   "display_name": "adm-env"
  },
  "language_info": {
   "codemirror_mode": {
    "name": "ipython",
    "version": 2
   },
   "file_extension": ".py",
   "mimetype": "text/x-python",
   "name": "python",
   "nbconvert_exporter": "python",
   "pygments_lexer": "ipython2",
   "version": "2.7.6"
  }
 },
 "nbformat": 4,
 "nbformat_minor": 0
}