{
 "cells": [
  {
   "cell_type": "markdown",
   "metadata": {
    "pycharm": {
     "name": "#%% md\n"
    }
   },
   "source": [
    "## Single Decision Tree (SDT) Benchmark\n",
    "\n",
    "H2O cloud is inicialized before every run and shutdown after every run. Algorithm is firstly tested on Training performance and after on Evaluation performance.\n"
   ]
  },
  {
   "cell_type": "code",
   "execution_count": 1,
   "metadata": {
    "pycharm": {
     "name": "#%%\n"
    }
   },
   "outputs": [
    {
     "name": "stdout",
     "output_type": "stream",
     "text": [
      "['/Users/yuliia/diplomka/h2o-3', '/usr/local/Cellar/python@3.9/3.9.12_1/Frameworks/Python.framework/Versions/3.9/lib/python39.zip', '/usr/local/Cellar/python@3.9/3.9.12_1/Frameworks/Python.framework/Versions/3.9/lib/python3.9', '/usr/local/Cellar/python@3.9/3.9.12_1/Frameworks/Python.framework/Versions/3.9/lib/python3.9/lib-dynload', '', '/Users/yuliia/diplomka/h2o-3/venv/lib/python3.9/site-packages', 'h2o-py/build/main']\n"
     ]
    }
   ],
   "source": [
    "import sys\n",
    "sys.path.append(\"h2o-py/build/main\") # path to h2o build\n",
    "\n",
    "print(sys.path)"
   ]
  },
  {
   "cell_type": "code",
   "execution_count": 2,
   "metadata": {},
   "outputs": [
    {
     "name": "stdout",
     "output_type": "stream",
     "text": [
      "versionFromGradle='3.37.0',projectVersion='3.37.0.99999',branch='yuliia-PUBDEV-8691-sdt',lastCommitHash='7ed8f5dfce507f975eea2c5b49d87c3e6014810a',gitDescribe='jenkins-master-5782-55-g7ed8f5dfce-dirty',compiledOn='2022-07-25 17:20:59',compiledBy='yuliia'\n"
     ]
    }
   ],
   "source": [
    "%matplotlib inline\n",
    "import matplotlib.pyplot as plt\n",
    "import numpy as np\n",
    "import pandas as pd\n",
    "import seaborn as sb\n",
    "import time\n",
    "import math\n",
    "import random\n",
    "import h2o\n",
    "from h2o.estimators import H2OSingleDecisionTreeEstimator\n",
    "from h2o.estimators import H2ORandomForestEstimator\n",
    "from sklearn.tree import DecisionTreeClassifier"
   ]
  },
  {
   "cell_type": "code",
   "execution_count": 3,
   "metadata": {
    "pycharm": {
     "name": "#%%\n"
    }
   },
   "outputs": [],
   "source": [
    "# Notebook parameters\n",
    "attempt_per_thread = 1 # number of runs of the algorithm in the thread # todo - change to 5\n",
    "max_depth = 5 \n",
    "threds = [1, 2] #[12, 11, 10, 9, 8, 7, 6, 5, 4, 3, 2, 1]\n",
    "\n"
   ]
  },
  {
   "cell_type": "code",
   "execution_count": 4,
   "metadata": {
    "pycharm": {
     "name": "#%%\n"
    }
   },
   "outputs": [],
   "source": [
    "def train_models(nthreads, data, start_cluster=True):\n",
    "    if start_cluster:\n",
    "        h2o.init(nthreads=nthreads)\n",
    "    hf = h2o.H2OFrame(data)\n",
    "    start = time.time()\n",
    "    SDT_h2o = H2OSingleDecisionTreeEstimator(model_id = \"single_decision_tree.hex\", max_depth=max_depth)\n",
    "    SDT_h2o.train(training_frame = hf, y='label')\n",
    "    end = time.time()\n",
    "    sdt_time = end - start\n",
    "    print(f\"SDT Time: {sdt_time}s\")\n",
    "    start = time.time()\n",
    "    DRF_h2o = H2ORandomForestEstimator(model_id = \"random_forest.hex\", ntrees = 1, max_depth = max_depth, \n",
    "                                       sample_rate=1, score_tree_interval=2)\n",
    "    hf['label'].asfactor()\n",
    "    DRF_h2o.train(training_frame = hf, y='label')\n",
    "    end = time.time()\n",
    "    drf_time = end - start\n",
    "    print(f\"DRF Time: {drf_time}s\")\n",
    "    if start_cluster:\n",
    "        h2o.cluster().shutdown()\n",
    "        time.sleep(10)\n",
    "    return sdt_time, drf_time\n",
    "\n",
    "\n",
    "def run_benchmark(data, start_cluster=True):\n",
    "    all_times = []\n",
    "    all_times_num_sdt = []\n",
    "    all_times_num_drf = []\n",
    "    for nthreads in threds:\n",
    "        times_sdt = []\n",
    "        times_drf = []\n",
    "        for i in range(attempt_per_thread):\n",
    "            sdt_time, drf_time = train_models(nthreads, data, start_cluster)\n",
    "            times_sdt.append(sdt_time)\n",
    "            times_drf.append(drf_time)\n",
    "        print(f\"SDT {np.mean(times_sdt)}s\")\n",
    "        print(f\"DRF {np.mean(times_drf)}s\")\n",
    "        all_times_num_sdt.append(times_sdt)\n",
    "        all_times_num_drf.append(times_drf)\n",
    "        all_times.append(f\"thread {nthreads} - SDT {np.mean(times_sdt)}s and DRF {np.mean(times_drf)}s\")\n",
    "\n",
    "    sdt_means = dict()\n",
    "    drf_means = dict()\n",
    "    for i, nthreads in enumerate(threds):\n",
    "        print(f\"{nthreads} - SDT = {np.mean(all_times_num_sdt[i])}, DRF = {np.mean(all_times_num_drf[i])}\")\n",
    "        sdt_means[nthreads] = np.mean(all_times_num_sdt[i])\n",
    "        drf_means[nthreads] = np.mean(all_times_num_drf[i])\n",
    "    \n",
    "    return sdt_means, drf_means\n",
    "        \n",
    "    \n",
    "def plot_result(sdt_means, drf_means):\n",
    "    data = {\"x\":[], \"y\": [], \"label\":[]}\n",
    "    for label, coord in sdt_means.items():\n",
    "        data[\"x\"].append(label)\n",
    "        data[\"y\"].append(coord)\n",
    "\n",
    "    data_drf = {\"x\":[], \"y\": [], \"label\":[]}\n",
    "    for label, coord in drf_means.items():\n",
    "        data_drf[\"x\"].append(label)\n",
    "        data_drf[\"y\"].append(coord)    \n",
    "\n",
    "    fig=plt.figure(figsize=(8,10))\n",
    "    fig.add_subplot(111)\n",
    "    plt.plot(data['x'], data['y'], '-', label=\"SDT\", linewidth=3)\n",
    "    plt.plot(data_drf['x'], data_drf['y'], '-', label=\"DRF\", linewidth=3)\n",
    "    plt.xlabel(\"Number of threads\")\n",
    "    plt.ylabel(\"Computing time (s)\")\n",
    "    plt.legend()\n",
    "    plt.tick_params(direction='out', length=6, width=2) \n",
    "    plt.title(f\"Single Decision Tree - training benchmark\\nModel: max_depth = {max_depth}\")\n",
    "    plt.savefig(f\"h2o-scale-perf.png\", bbox_inches='tight', pad_inches=.05)\n",
    "    plt.show()\n",
    "\n"
   ]
  },
  {
   "cell_type": "markdown",
   "metadata": {
    "pycharm": {
     "name": "#%% md\n"
    }
   },
   "source": [
    "## Training stage\n"
   ]
  },
  {
   "cell_type": "markdown",
   "metadata": {
    "pycharm": {
     "name": "#%% md\n"
    }
   },
   "source": [
    "### Big data and small dimension"
   ]
  },
  {
   "cell_type": "code",
   "execution_count": 5,
   "metadata": {
    "pycharm": {
     "name": "#%%\n"
    }
   },
   "outputs": [
    {
     "name": "stdout",
     "output_type": "stream",
     "text": [
      "Checking whether there is an H2O instance running at http://localhost:54321 ..... not found.\n",
      "Attempting to start a local H2O server...\n",
      "  Java Version: openjdk version \"17.0.3\" 2022-04-19 LTS; OpenJDK Runtime Environment Corretto-17.0.3.6.1 (build 17.0.3+6-LTS); OpenJDK 64-Bit Server VM Corretto-17.0.3.6.1 (build 17.0.3+6-LTS, mixed mode, sharing)\n",
      "  Starting server from /Users/yuliia/diplomka/h2o-3/build/h2o.jar\n",
      "  Ice root: /var/folders/4y/b9qskph514qdxlwlds_gf79w0000gn/T/tmp9repjo0o\n",
      "  JVM stdout: /var/folders/4y/b9qskph514qdxlwlds_gf79w0000gn/T/tmp9repjo0o/h2o_yuliia_started_from_python.out\n",
      "  JVM stderr: /var/folders/4y/b9qskph514qdxlwlds_gf79w0000gn/T/tmp9repjo0o/h2o_yuliia_started_from_python.err\n",
      "  Server is running at http://127.0.0.1:54321\n",
      "Connecting to H2O server at http://127.0.0.1:54321 ... successful.\n"
     ]
    },
    {
     "data": {
      "text/html": [
       "<div style=\"overflow:auto\"><table style=\"width:50%\"><tr><td>H2O_cluster_uptime:</td>\n",
       "<td>04 secs</td></tr>\n",
       "<tr><td>H2O_cluster_timezone:</td>\n",
       "<td>Europe/Prague</td></tr>\n",
       "<tr><td>H2O_data_parsing_timezone:</td>\n",
       "<td>UTC</td></tr>\n",
       "<tr><td>H2O_cluster_version:</td>\n",
       "<td>3.37.0.99999</td></tr>\n",
       "<tr><td>H2O_cluster_version_age:</td>\n",
       "<td>2 hours and 23 minutes </td></tr>\n",
       "<tr><td>H2O_cluster_name:</td>\n",
       "<td>H2O_from_python_yuliia_o4jjd2</td></tr>\n",
       "<tr><td>H2O_cluster_total_nodes:</td>\n",
       "<td>1</td></tr>\n",
       "<tr><td>H2O_cluster_free_memory:</td>\n",
       "<td>2 Gb</td></tr>\n",
       "<tr><td>H2O_cluster_total_cores:</td>\n",
       "<td>4</td></tr>\n",
       "<tr><td>H2O_cluster_allowed_cores:</td>\n",
       "<td>1</td></tr>\n",
       "<tr><td>H2O_cluster_status:</td>\n",
       "<td>locked, healthy</td></tr>\n",
       "<tr><td>H2O_connection_url:</td>\n",
       "<td>http://127.0.0.1:54321</td></tr>\n",
       "<tr><td>H2O_connection_proxy:</td>\n",
       "<td>{\"http\": null, \"https\": null}</td></tr>\n",
       "<tr><td>H2O_internal_security:</td>\n",
       "<td>False</td></tr>\n",
       "<tr><td>Python_version:</td>\n",
       "<td>3.9.12 final</td></tr></table></div>"
      ],
      "text/plain": [
       "--------------------------  -----------------------------\n",
       "H2O_cluster_uptime:         04 secs\n",
       "H2O_cluster_timezone:       Europe/Prague\n",
       "H2O_data_parsing_timezone:  UTC\n",
       "H2O_cluster_version:        3.37.0.99999\n",
       "H2O_cluster_version_age:    2 hours and 23 minutes\n",
       "H2O_cluster_name:           H2O_from_python_yuliia_o4jjd2\n",
       "H2O_cluster_total_nodes:    1\n",
       "H2O_cluster_free_memory:    2 Gb\n",
       "H2O_cluster_total_cores:    4\n",
       "H2O_cluster_allowed_cores:  1\n",
       "H2O_cluster_status:         locked, healthy\n",
       "H2O_connection_url:         http://127.0.0.1:54321\n",
       "H2O_connection_proxy:       {\"http\": null, \"https\": null}\n",
       "H2O_internal_security:      False\n",
       "Python_version:             3.9.12 final\n",
       "--------------------------  -----------------------------"
      ]
     },
     "metadata": {},
     "output_type": "display_data"
    },
    {
     "name": "stdout",
     "output_type": "stream",
     "text": [
      "Parse progress: |████████████████████████████████████████████████████████████████| (done) 100%\n",
      "sdt Model Build progress: |"
     ]
    },
    {
     "name": "stderr",
     "output_type": "stream",
     "text": [
      "/Users/yuliia/diplomka/h2o-3/h2o-py/build/main/h2o/estimators/estimator_base.py:208: RuntimeWarning: Response is numeric, so the regression model will be trained. However, the cardinality is equaled to two, so if you want to train a classification model, convert the response column to categorical before training.\n",
      "  warnings.warn(mesg[\"message\"], RuntimeWarning)\n"
     ]
    },
    {
     "name": "stdout",
     "output_type": "stream",
     "text": [
      "██████████████████████████████████████████████████████| (done) 100%\n",
      "SDT Time: 0.385037899017334s\n",
      "drf Model Build progress: |"
     ]
    },
    {
     "name": "stderr",
     "output_type": "stream",
     "text": [
      "/Users/yuliia/diplomka/h2o-3/h2o-py/build/main/h2o/estimators/estimator_base.py:208: RuntimeWarning: Sample rate is 100% and no validation dataset and no cross-validation. There are no out-of-bag data to compute error estimates on the training data!\n",
      "  warnings.warn(mesg[\"message\"], RuntimeWarning)\n"
     ]
    },
    {
     "name": "stdout",
     "output_type": "stream",
     "text": [
      "██████████████████████████████████████████████████████| (done) 100%\n",
      "DRF Time: 1.7072381973266602s\n",
      "H2O session _sid_a53c closed.\n",
      "SDT 0.385037899017334s\n",
      "DRF 1.7072381973266602s\n",
      "Checking whether there is an H2O instance running at http://localhost:54321 ..... not found.\n",
      "Attempting to start a local H2O server...\n",
      "  Java Version: openjdk version \"17.0.3\" 2022-04-19 LTS; OpenJDK Runtime Environment Corretto-17.0.3.6.1 (build 17.0.3+6-LTS); OpenJDK 64-Bit Server VM Corretto-17.0.3.6.1 (build 17.0.3+6-LTS, mixed mode, sharing)\n",
      "  Starting server from /Users/yuliia/diplomka/h2o-3/build/h2o.jar\n",
      "  Ice root: /var/folders/4y/b9qskph514qdxlwlds_gf79w0000gn/T/tmpd43llxfi\n",
      "  JVM stdout: /var/folders/4y/b9qskph514qdxlwlds_gf79w0000gn/T/tmpd43llxfi/h2o_yuliia_started_from_python.out\n",
      "  JVM stderr: /var/folders/4y/b9qskph514qdxlwlds_gf79w0000gn/T/tmpd43llxfi/h2o_yuliia_started_from_python.err\n",
      "  Server is running at http://127.0.0.1:54321\n",
      "Connecting to H2O server at http://127.0.0.1:54321 ... successful.\n"
     ]
    },
    {
     "data": {
      "text/html": [
       "<div style=\"overflow:auto\"><table style=\"width:50%\"><tr><td>H2O_cluster_uptime:</td>\n",
       "<td>03 secs</td></tr>\n",
       "<tr><td>H2O_cluster_timezone:</td>\n",
       "<td>Europe/Prague</td></tr>\n",
       "<tr><td>H2O_data_parsing_timezone:</td>\n",
       "<td>UTC</td></tr>\n",
       "<tr><td>H2O_cluster_version:</td>\n",
       "<td>3.37.0.99999</td></tr>\n",
       "<tr><td>H2O_cluster_version_age:</td>\n",
       "<td>2 hours and 24 minutes </td></tr>\n",
       "<tr><td>H2O_cluster_name:</td>\n",
       "<td>H2O_from_python_yuliia_a4pop7</td></tr>\n",
       "<tr><td>H2O_cluster_total_nodes:</td>\n",
       "<td>1</td></tr>\n",
       "<tr><td>H2O_cluster_free_memory:</td>\n",
       "<td>2 Gb</td></tr>\n",
       "<tr><td>H2O_cluster_total_cores:</td>\n",
       "<td>4</td></tr>\n",
       "<tr><td>H2O_cluster_allowed_cores:</td>\n",
       "<td>2</td></tr>\n",
       "<tr><td>H2O_cluster_status:</td>\n",
       "<td>locked, healthy</td></tr>\n",
       "<tr><td>H2O_connection_url:</td>\n",
       "<td>http://127.0.0.1:54321</td></tr>\n",
       "<tr><td>H2O_connection_proxy:</td>\n",
       "<td>{\"http\": null, \"https\": null}</td></tr>\n",
       "<tr><td>H2O_internal_security:</td>\n",
       "<td>False</td></tr>\n",
       "<tr><td>Python_version:</td>\n",
       "<td>3.9.12 final</td></tr></table></div>"
      ],
      "text/plain": [
       "--------------------------  -----------------------------\n",
       "H2O_cluster_uptime:         03 secs\n",
       "H2O_cluster_timezone:       Europe/Prague\n",
       "H2O_data_parsing_timezone:  UTC\n",
       "H2O_cluster_version:        3.37.0.99999\n",
       "H2O_cluster_version_age:    2 hours and 24 minutes\n",
       "H2O_cluster_name:           H2O_from_python_yuliia_a4pop7\n",
       "H2O_cluster_total_nodes:    1\n",
       "H2O_cluster_free_memory:    2 Gb\n",
       "H2O_cluster_total_cores:    4\n",
       "H2O_cluster_allowed_cores:  2\n",
       "H2O_cluster_status:         locked, healthy\n",
       "H2O_connection_url:         http://127.0.0.1:54321\n",
       "H2O_connection_proxy:       {\"http\": null, \"https\": null}\n",
       "H2O_internal_security:      False\n",
       "Python_version:             3.9.12 final\n",
       "--------------------------  -----------------------------"
      ]
     },
     "metadata": {},
     "output_type": "display_data"
    },
    {
     "name": "stdout",
     "output_type": "stream",
     "text": [
      "Parse progress: |████████████████████████████████████████████████████████████████| (done) 100%\n",
      "sdt Model Build progress: |██████████████████████████████████████████████████████| (done) 100%\n",
      "SDT Time: 0.3421638011932373s\n",
      "drf Model Build progress: |██████████████████████████████████████████████████████| (done) 100%\n",
      "DRF Time: 1.4986231327056885s\n",
      "H2O session _sid_85c7 closed.\n",
      "SDT 0.3421638011932373s\n",
      "DRF 1.4986231327056885s\n",
      "1 - SDT = 0.385037899017334, DRF = 1.7072381973266602\n",
      "2 - SDT = 0.3421638011932373, DRF = 1.4986231327056885\n"
     ]
    }
   ],
   "source": [
    "X = pd.read_csv(\"smalldata/yuliia/Dataset1_train.csv\")\n",
    "sdt_time1, drf_time1 = run_benchmark(X)"
   ]
  },
  {
   "cell_type": "code",
   "execution_count": 6,
   "metadata": {
    "pycharm": {
     "name": "#%%\n"
    }
   },
   "outputs": [
    {
     "data": {
      "image/png": "[encoded data removed]",
      "text/plain": [
       "<Figure size 576x720 with 1 Axes>"
      ]
     },
     "metadata": {
      "needs_background": "light"
     },
     "output_type": "display_data"
    }
   ],
   "source": [
    "plot_result(sdt_time1, drf_time1)"
   ]
  },
  {
   "cell_type": "markdown",
   "metadata": {
    "pycharm": {
     "name": "#%% md\n"
    }
   },
   "source": [
    "### Big data and big dimension"
   ]
  },
  {
   "cell_type": "code",
   "execution_count": 7,
   "metadata": {
    "pycharm": {
     "name": "#%%\n"
    }
   },
   "outputs": [
    {
     "name": "stdout",
     "output_type": "stream",
     "text": [
      "Checking whether there is an H2O instance running at http://localhost:54321 ..... not found.\n",
      "Attempting to start a local H2O server...\n",
      "  Java Version: openjdk version \"17.0.3\" 2022-04-19 LTS; OpenJDK Runtime Environment Corretto-17.0.3.6.1 (build 17.0.3+6-LTS); OpenJDK 64-Bit Server VM Corretto-17.0.3.6.1 (build 17.0.3+6-LTS, mixed mode, sharing)\n",
      "  Starting server from /Users/yuliia/diplomka/h2o-3/build/h2o.jar\n",
      "  Ice root: /var/folders/4y/b9qskph514qdxlwlds_gf79w0000gn/T/tmp352o8k1i\n",
      "  JVM stdout: /var/folders/4y/b9qskph514qdxlwlds_gf79w0000gn/T/tmp352o8k1i/h2o_yuliia_started_from_python.out\n",
      "  JVM stderr: /var/folders/4y/b9qskph514qdxlwlds_gf79w0000gn/T/tmp352o8k1i/h2o_yuliia_started_from_python.err\n",
      "  Server is running at http://127.0.0.1:54321\n",
      "Connecting to H2O server at http://127.0.0.1:54321 ... successful.\n"
     ]
    },
    {
     "data": {
      "text/html": [
       "<div style=\"overflow:auto\"><table style=\"width:50%\"><tr><td>H2O_cluster_uptime:</td>\n",
       "<td>03 secs</td></tr>\n",
       "<tr><td>H2O_cluster_timezone:</td>\n",
       "<td>Europe/Prague</td></tr>\n",
       "<tr><td>H2O_data_parsing_timezone:</td>\n",
       "<td>UTC</td></tr>\n",
       "<tr><td>H2O_cluster_version:</td>\n",
       "<td>3.37.0.99999</td></tr>\n",
       "<tr><td>H2O_cluster_version_age:</td>\n",
       "<td>2 hours and 24 minutes </td></tr>\n",
       "<tr><td>H2O_cluster_name:</td>\n",
       "<td>H2O_from_python_yuliia_2vht8r</td></tr>\n",
       "<tr><td>H2O_cluster_total_nodes:</td>\n",
       "<td>1</td></tr>\n",
       "<tr><td>H2O_cluster_free_memory:</td>\n",
       "<td>2 Gb</td></tr>\n",
       "<tr><td>H2O_cluster_total_cores:</td>\n",
       "<td>4</td></tr>\n",
       "<tr><td>H2O_cluster_allowed_cores:</td>\n",
       "<td>1</td></tr>\n",
       "<tr><td>H2O_cluster_status:</td>\n",
       "<td>locked, healthy</td></tr>\n",
       "<tr><td>H2O_connection_url:</td>\n",
       "<td>http://127.0.0.1:54321</td></tr>\n",
       "<tr><td>H2O_connection_proxy:</td>\n",
       "<td>{\"http\": null, \"https\": null}</td></tr>\n",
       "<tr><td>H2O_internal_security:</td>\n",
       "<td>False</td></tr>\n",
       "<tr><td>Python_version:</td>\n",
       "<td>3.9.12 final</td></tr></table></div>"
      ],
      "text/plain": [
       "--------------------------  -----------------------------\n",
       "H2O_cluster_uptime:         03 secs\n",
       "H2O_cluster_timezone:       Europe/Prague\n",
       "H2O_data_parsing_timezone:  UTC\n",
       "H2O_cluster_version:        3.37.0.99999\n",
       "H2O_cluster_version_age:    2 hours and 24 minutes\n",
       "H2O_cluster_name:           H2O_from_python_yuliia_2vht8r\n",
       "H2O_cluster_total_nodes:    1\n",
       "H2O_cluster_free_memory:    2 Gb\n",
       "H2O_cluster_total_cores:    4\n",
       "H2O_cluster_allowed_cores:  1\n",
       "H2O_cluster_status:         locked, healthy\n",
       "H2O_connection_url:         http://127.0.0.1:54321\n",
       "H2O_connection_proxy:       {\"http\": null, \"https\": null}\n",
       "H2O_internal_security:      False\n",
       "Python_version:             3.9.12 final\n",
       "--------------------------  -----------------------------"
      ]
     },
     "metadata": {},
     "output_type": "display_data"
    },
    {
     "name": "stdout",
     "output_type": "stream",
     "text": [
      "Parse progress: |████████████████████████████████████████████████████████████████| (done) 100%\n",
      "sdt Model Build progress: |"
     ]
    },
    {
     "name": "stderr",
     "output_type": "stream",
     "text": [
      "/Users/yuliia/diplomka/h2o-3/h2o-py/build/main/h2o/estimators/estimator_base.py:208: RuntimeWarning: Response is numeric, so the regression model will be trained. However, the cardinality is equaled to two, so if you want to train a classification model, convert the response column to categorical before training.\n",
      "  warnings.warn(mesg[\"message\"], RuntimeWarning)\n"
     ]
    },
    {
     "name": "stdout",
     "output_type": "stream",
     "text": [
      "██████████████████████████████████████████████████████| (done) 100%\n",
      "SDT Time: 3.012586832046509s\n",
      "drf Model Build progress: |"
     ]
    },
    {
     "name": "stderr",
     "output_type": "stream",
     "text": [
      "/Users/yuliia/diplomka/h2o-3/h2o-py/build/main/h2o/estimators/estimator_base.py:208: RuntimeWarning: Sample rate is 100% and no validation dataset and no cross-validation. There are no out-of-bag data to compute error estimates on the training data!\n",
      "  warnings.warn(mesg[\"message\"], RuntimeWarning)\n"
     ]
    },
    {
     "name": "stdout",
     "output_type": "stream",
     "text": [
      "██████████████████████████████████████████████████████| (done) 100%\n",
      "DRF Time: 7.577459335327148s\n",
      "H2O session _sid_9ccb closed.\n",
      "SDT 3.012586832046509s\n",
      "DRF 7.577459335327148s\n",
      "Checking whether there is an H2O instance running at http://localhost:54321 . connected.\n"
     ]
    },
    {
     "data": {
      "text/html": [
       "<div style=\"overflow:auto\"><table style=\"width:50%\"><tr><td>H2O_cluster_uptime:</td>\n",
       "<td>1 min 35 secs</td></tr>\n",
       "<tr><td>H2O_cluster_timezone:</td>\n",
       "<td>Europe/Prague</td></tr>\n",
       "<tr><td>H2O_data_parsing_timezone:</td>\n",
       "<td>UTC</td></tr>\n",
       "<tr><td>H2O_cluster_version:</td>\n",
       "<td>3.37.0.99999</td></tr>\n",
       "<tr><td>H2O_cluster_version_age:</td>\n",
       "<td>2 hours and 27 minutes </td></tr>\n",
       "<tr><td>H2O_cluster_name:</td>\n",
       "<td>yuliia</td></tr>\n",
       "<tr><td>H2O_cluster_total_nodes:</td>\n",
       "<td>1</td></tr>\n",
       "<tr><td>H2O_cluster_free_memory:</td>\n",
       "<td>1.518 Gb</td></tr>\n",
       "<tr><td>H2O_cluster_total_cores:</td>\n",
       "<td>4</td></tr>\n",
       "<tr><td>H2O_cluster_allowed_cores:</td>\n",
       "<td>4</td></tr>\n",
       "<tr><td>H2O_cluster_status:</td>\n",
       "<td>locked, healthy</td></tr>\n",
       "<tr><td>H2O_connection_url:</td>\n",
       "<td>http://localhost:54321</td></tr>\n",
       "<tr><td>H2O_connection_proxy:</td>\n",
       "<td>{\"http\": null, \"https\": null}</td></tr>\n",
       "<tr><td>H2O_internal_security:</td>\n",
       "<td>False</td></tr>\n",
       "<tr><td>Python_version:</td>\n",
       "<td>3.9.12 final</td></tr></table></div>"
      ],
      "text/plain": [
       "--------------------------  -----------------------------\n",
       "H2O_cluster_uptime:         1 min 35 secs\n",
       "H2O_cluster_timezone:       Europe/Prague\n",
       "H2O_data_parsing_timezone:  UTC\n",
       "H2O_cluster_version:        3.37.0.99999\n",
       "H2O_cluster_version_age:    2 hours and 27 minutes\n",
       "H2O_cluster_name:           yuliia\n",
       "H2O_cluster_total_nodes:    1\n",
       "H2O_cluster_free_memory:    1.518 Gb\n",
       "H2O_cluster_total_cores:    4\n",
       "H2O_cluster_allowed_cores:  4\n",
       "H2O_cluster_status:         locked, healthy\n",
       "H2O_connection_url:         http://localhost:54321\n",
       "H2O_connection_proxy:       {\"http\": null, \"https\": null}\n",
       "H2O_internal_security:      False\n",
       "Python_version:             3.9.12 final\n",
       "--------------------------  -----------------------------"
      ]
     },
     "metadata": {},
     "output_type": "display_data"
    },
    {
     "name": "stdout",
     "output_type": "stream",
     "text": [
      "Parse progress: |████████████████████████████████████████████████████████████████| (done) 100%\n",
      "sdt Model Build progress: |██████████████████████████████████████████████████████| (done) 100%\n",
      "SDT Time: 1.0623259544372559s\n",
      "drf Model Build progress: |██████████████████████████████████████████████████████| (done) 100%\n",
      "DRF Time: 4.78842306137085s\n"
     ]
    },
    {
     "ename": "H2OResponseError",
     "evalue": "Server error water.exceptions.H2ONotFoundArgumentException:\n  Error: Resource /flow/index.html not found\n  Request: GET /\n",
     "output_type": "error",
     "traceback": [
      "\u001b[0;31m---------------------------------------------------------------------------\u001b[0m",
      "\u001b[0;31mH2OResponseError\u001b[0m                          Traceback (most recent call last)",
      "Input \u001b[0;32mIn [7]\u001b[0m, in \u001b[0;36m<cell line: 2>\u001b[0;34m()\u001b[0m\n\u001b[1;32m      1\u001b[0m X \u001b[38;5;241m=\u001b[39m pd\u001b[38;5;241m.\u001b[39mread_csv(\u001b[38;5;124m\"\u001b[39m\u001b[38;5;124msmalldata/yuliia/HIGGS_train_limited1.csv\u001b[39m\u001b[38;5;124m\"\u001b[39m)\n\u001b[0;32m----> 2\u001b[0m sdt_time2, drf_time2 \u001b[38;5;241m=\u001b[39m \u001b[43mrun_benchmark\u001b[49m\u001b[43m(\u001b[49m\u001b[43mX\u001b[49m\u001b[43m)\u001b[49m\n",
      "Input \u001b[0;32mIn [4]\u001b[0m, in \u001b[0;36mrun_benchmark\u001b[0;34m(data, start_cluster)\u001b[0m\n\u001b[1;32m     31\u001b[0m times_drf \u001b[38;5;241m=\u001b[39m []\n\u001b[1;32m     32\u001b[0m \u001b[38;5;28;01mfor\u001b[39;00m i \u001b[38;5;129;01min\u001b[39;00m \u001b[38;5;28mrange\u001b[39m(attempt_per_thread):\n\u001b[0;32m---> 33\u001b[0m     sdt_time, drf_time \u001b[38;5;241m=\u001b[39m \u001b[43mtrain_models\u001b[49m\u001b[43m(\u001b[49m\u001b[43mnthreads\u001b[49m\u001b[43m,\u001b[49m\u001b[43m \u001b[49m\u001b[43mdata\u001b[49m\u001b[43m,\u001b[49m\u001b[43m \u001b[49m\u001b[43mstart_cluster\u001b[49m\u001b[43m)\u001b[49m\n\u001b[1;32m     34\u001b[0m     times_sdt\u001b[38;5;241m.\u001b[39mappend(sdt_time)\n\u001b[1;32m     35\u001b[0m     times_drf\u001b[38;5;241m.\u001b[39mappend(drf_time)\n",
      "Input \u001b[0;32mIn [4]\u001b[0m, in \u001b[0;36mtrain_models\u001b[0;34m(nthreads, data, start_cluster)\u001b[0m\n\u001b[1;32m     18\u001b[0m \u001b[38;5;28mprint\u001b[39m(\u001b[38;5;124mf\u001b[39m\u001b[38;5;124m\"\u001b[39m\u001b[38;5;124mDRF Time: \u001b[39m\u001b[38;5;132;01m{\u001b[39;00mdrf_time\u001b[38;5;132;01m}\u001b[39;00m\u001b[38;5;124ms\u001b[39m\u001b[38;5;124m\"\u001b[39m)\n\u001b[1;32m     19\u001b[0m \u001b[38;5;28;01mif\u001b[39;00m start_cluster:\n\u001b[0;32m---> 20\u001b[0m     \u001b[43mh2o\u001b[49m\u001b[38;5;241;43m.\u001b[39;49m\u001b[43mcluster\u001b[49m\u001b[43m(\u001b[49m\u001b[43m)\u001b[49m\u001b[38;5;241;43m.\u001b[39;49m\u001b[43mshutdown\u001b[49m\u001b[43m(\u001b[49m\u001b[43m)\u001b[49m\n\u001b[1;32m     21\u001b[0m     time\u001b[38;5;241m.\u001b[39msleep(\u001b[38;5;241m10\u001b[39m)\n\u001b[1;32m     22\u001b[0m \u001b[38;5;28;01mreturn\u001b[39;00m sdt_time, drf_time\n",
      "File \u001b[0;32m~/diplomka/h2o-3/h2o-py/build/main/h2o/backend/cluster.py:100\u001b[0m, in \u001b[0;36mH2OCluster.shutdown\u001b[0;34m(self, prompt)\u001b[0m\n\u001b[1;32m     92\u001b[0m \u001b[38;5;28;01mdef\u001b[39;00m \u001b[38;5;21mshutdown\u001b[39m(\u001b[38;5;28mself\u001b[39m, prompt\u001b[38;5;241m=\u001b[39m\u001b[38;5;28;01mFalse\u001b[39;00m):\n\u001b[1;32m     93\u001b[0m     \u001b[38;5;124;03m\"\"\"\u001b[39;00m\n\u001b[1;32m     94\u001b[0m \u001b[38;5;124;03m    Shut down the server.\u001b[39;00m\n\u001b[1;32m     95\u001b[0m \n\u001b[0;32m   (...)\u001b[0m\n\u001b[1;32m     98\u001b[0m \u001b[38;5;124;03m    :param prompt: A logical value indicating whether to prompt the user before shutting down the H2O server.\u001b[39;00m\n\u001b[1;32m     99\u001b[0m \u001b[38;5;124;03m    \"\"\"\u001b[39;00m\n\u001b[0;32m--> 100\u001b[0m     \u001b[38;5;28;01mif\u001b[39;00m \u001b[38;5;129;01mnot\u001b[39;00m \u001b[38;5;28;43mself\u001b[39;49m\u001b[38;5;241;43m.\u001b[39;49m\u001b[43mis_running\u001b[49m\u001b[43m(\u001b[49m\u001b[43m)\u001b[49m: \u001b[38;5;28;01mreturn\u001b[39;00m\n\u001b[1;32m    101\u001b[0m     assert_is_type(prompt, \u001b[38;5;28mbool\u001b[39m)\n\u001b[1;32m    102\u001b[0m     \u001b[38;5;28;01mif\u001b[39;00m prompt:\n",
      "File \u001b[0;32m~/diplomka/h2o-3/h2o-py/build/main/h2o/backend/cluster.py:120\u001b[0m, in \u001b[0;36mH2OCluster.is_running\u001b[0;34m(self)\u001b[0m\n\u001b[1;32m    118\u001b[0m \u001b[38;5;28;01mtry\u001b[39;00m:\n\u001b[1;32m    119\u001b[0m     \u001b[38;5;28;01mif\u001b[39;00m h2o\u001b[38;5;241m.\u001b[39mconnection()\u001b[38;5;241m.\u001b[39mlocal_server \u001b[38;5;129;01mand\u001b[39;00m \u001b[38;5;129;01mnot\u001b[39;00m h2o\u001b[38;5;241m.\u001b[39mconnection()\u001b[38;5;241m.\u001b[39mlocal_server\u001b[38;5;241m.\u001b[39mis_running(): \u001b[38;5;28;01mreturn\u001b[39;00m \u001b[38;5;28;01mFalse\u001b[39;00m\n\u001b[0;32m--> 120\u001b[0m     \u001b[43mh2o\u001b[49m\u001b[38;5;241;43m.\u001b[39;49m\u001b[43mapi\u001b[49m\u001b[43m(\u001b[49m\u001b[38;5;124;43m\"\u001b[39;49m\u001b[38;5;124;43mGET /\u001b[39;49m\u001b[38;5;124;43m\"\u001b[39;49m\u001b[43m)\u001b[49m\n\u001b[1;32m    121\u001b[0m     \u001b[38;5;28;01mreturn\u001b[39;00m \u001b[38;5;28;01mTrue\u001b[39;00m\n\u001b[1;32m    122\u001b[0m \u001b[38;5;28;01mexcept\u001b[39;00m (H2OConnectionError, H2OServerError):\n",
      "File \u001b[0;32m~/diplomka/h2o-3/h2o-py/build/main/h2o/h2o.py:124\u001b[0m, in \u001b[0;36mapi\u001b[0;34m(endpoint, data, json, filename, save_to)\u001b[0m\n\u001b[1;32m    122\u001b[0m \u001b[38;5;66;03m# type checks are performed in H2OConnection class\u001b[39;00m\n\u001b[1;32m    123\u001b[0m _check_connection()\n\u001b[0;32m--> 124\u001b[0m \u001b[38;5;28;01mreturn\u001b[39;00m \u001b[43mh2oconn\u001b[49m\u001b[38;5;241;43m.\u001b[39;49m\u001b[43mrequest\u001b[49m\u001b[43m(\u001b[49m\u001b[43mendpoint\u001b[49m\u001b[43m,\u001b[49m\u001b[43m \u001b[49m\u001b[43mdata\u001b[49m\u001b[38;5;241;43m=\u001b[39;49m\u001b[43mdata\u001b[49m\u001b[43m,\u001b[49m\u001b[43m \u001b[49m\u001b[43mjson\u001b[49m\u001b[38;5;241;43m=\u001b[39;49m\u001b[43mjson\u001b[49m\u001b[43m,\u001b[49m\u001b[43m \u001b[49m\u001b[43mfilename\u001b[49m\u001b[38;5;241;43m=\u001b[39;49m\u001b[43mfilename\u001b[49m\u001b[43m,\u001b[49m\u001b[43m \u001b[49m\u001b[43msave_to\u001b[49m\u001b[38;5;241;43m=\u001b[39;49m\u001b[43msave_to\u001b[49m\u001b[43m)\u001b[49m\n",
      "File \u001b[0;32m~/diplomka/h2o-3/h2o-py/build/main/h2o/backend/connection.py:477\u001b[0m, in \u001b[0;36mH2OConnection.request\u001b[0;34m(self, endpoint, data, json, filename, save_to)\u001b[0m\n\u001b[1;32m    475\u001b[0m         save_to \u001b[38;5;241m=\u001b[39m save_to(resp)\n\u001b[1;32m    476\u001b[0m     \u001b[38;5;28mself\u001b[39m\u001b[38;5;241m.\u001b[39m_log_end_transaction(start_time, resp)\n\u001b[0;32m--> 477\u001b[0m     \u001b[38;5;28;01mreturn\u001b[39;00m \u001b[38;5;28;43mself\u001b[39;49m\u001b[38;5;241;43m.\u001b[39;49m\u001b[43m_process_response\u001b[49m\u001b[43m(\u001b[49m\u001b[43mresp\u001b[49m\u001b[43m,\u001b[49m\u001b[43m \u001b[49m\u001b[43msave_to\u001b[49m\u001b[43m)\u001b[49m\n\u001b[1;32m    479\u001b[0m \u001b[38;5;28;01mexcept\u001b[39;00m (requests\u001b[38;5;241m.\u001b[39mexceptions\u001b[38;5;241m.\u001b[39mConnectionError, requests\u001b[38;5;241m.\u001b[39mexceptions\u001b[38;5;241m.\u001b[39mHTTPError) \u001b[38;5;28;01mas\u001b[39;00m e:\n\u001b[1;32m    480\u001b[0m     \u001b[38;5;28;01mif\u001b[39;00m \u001b[38;5;28mself\u001b[39m\u001b[38;5;241m.\u001b[39m_local_server \u001b[38;5;129;01mand\u001b[39;00m \u001b[38;5;129;01mnot\u001b[39;00m \u001b[38;5;28mself\u001b[39m\u001b[38;5;241m.\u001b[39m_local_server\u001b[38;5;241m.\u001b[39mis_running():\n",
      "File \u001b[0;32m~/diplomka/h2o-3/h2o-py/build/main/h2o/backend/connection.py:828\u001b[0m, in \u001b[0;36mH2OConnection._process_response\u001b[0;34m(response, save_to)\u001b[0m\n\u001b[1;32m    826\u001b[0m \u001b[38;5;28;01mif\u001b[39;00m status_code \u001b[38;5;129;01min\u001b[39;00m {\u001b[38;5;241m400\u001b[39m, \u001b[38;5;241m404\u001b[39m, \u001b[38;5;241m412\u001b[39m} \u001b[38;5;129;01mand\u001b[39;00m \u001b[38;5;28misinstance\u001b[39m(data, H2OErrorV3):\n\u001b[1;32m    827\u001b[0m     data\u001b[38;5;241m.\u001b[39mshow_stacktrace \u001b[38;5;241m=\u001b[39m \u001b[38;5;28;01mFalse\u001b[39;00m\n\u001b[0;32m--> 828\u001b[0m     \u001b[38;5;28;01mraise\u001b[39;00m H2OResponseError(data)\n\u001b[1;32m    830\u001b[0m \u001b[38;5;66;03m# Server errors (notably 500 = \"Server Error\")\u001b[39;00m\n\u001b[1;32m    831\u001b[0m \u001b[38;5;66;03m# Note that it is possible to receive valid H2OErrorV3 object in this case, however it merely means the server\u001b[39;00m\n\u001b[1;32m    832\u001b[0m \u001b[38;5;66;03m# did not provide the correct status code.\u001b[39;00m\n\u001b[1;32m    833\u001b[0m \u001b[38;5;28;01mraise\u001b[39;00m H2OServerError(\u001b[38;5;124m\"\u001b[39m\u001b[38;5;124mHTTP \u001b[39m\u001b[38;5;132;01m%d\u001b[39;00m\u001b[38;5;124m \u001b[39m\u001b[38;5;132;01m%s\u001b[39;00m\u001b[38;5;124m:\u001b[39m\u001b[38;5;130;01m\\n\u001b[39;00m\u001b[38;5;132;01m%s\u001b[39;00m\u001b[38;5;124m\"\u001b[39m \u001b[38;5;241m%\u001b[39m (status_code, response\u001b[38;5;241m.\u001b[39mreason, data))\n",
      "\u001b[0;31mH2OResponseError\u001b[0m: Server error water.exceptions.H2ONotFoundArgumentException:\n  Error: Resource /flow/index.html not found\n  Request: GET /\n"
     ]
    }
   ],
   "source": [
    "X = pd.read_csv(\"smalldata/yuliia/HIGGS_train_limited1.csv\")\n",
    "sdt_time2, drf_time2 = run_benchmark(X)"
   ]
  },
  {
   "cell_type": "code",
   "execution_count": null,
   "metadata": {
    "pycharm": {
     "name": "#%%\n"
    }
   },
   "outputs": [],
   "source": [
    "plot_result(sdt_time2, drf_time2)"
   ]
  },
  {
   "cell_type": "markdown",
   "metadata": {
    "pycharm": {
     "name": "#%% md\n"
    }
   },
   "source": [
    "## Evaluation Stage"
   ]
  },
  {
   "cell_type": "code",
   "execution_count": null,
   "metadata": {
    "pycharm": {
     "name": "#%%\n"
    }
   },
   "outputs": [],
   "source": [
    "def run_predict(SDT_model, DRF_model, test):\n",
    "    start = time.time()\n",
    "    SDT_model.predict(test)\n",
    "    end = time.time()\n",
    "    sdt_time = end - start\n",
    "    print(f\"SDT Time: {sdt_time}s\")\n",
    "    start = time.time()\n",
    "    DRF_model.predict(test)\n",
    "    end = time.time()\n",
    "    drf_time = end - start\n",
    "    print(f\"DRF Time: {drf_time}s\")    \n",
    "    return sdt_time, drf_time\n",
    "\n",
    "\n",
    "def run_predict_benchmark(train_data, test_data):\n",
    "    all_times = []\n",
    "    all_times_num_sdt = []\n",
    "    all_times_num_drf = []\n",
    "    for nthreads in threds:\n",
    "        times_sdt = []\n",
    "        times_drf = []\n",
    "        h2o.init(nthreads=nthreads)     \n",
    "        train = h2o.H2OFrame(train_data)    \n",
    "        test = h2o.H2OFrame(test_data)\n",
    "        SDT_model = H2OSingleDecisionTreeEstimator(model_id = \"single_decision_tree.hex\", max_depth=max_depth)\n",
    "        SDT_model.train(training_frame = train, y='label')\n",
    "        DRF_model = H2ORandomForestEstimator(model_id=\"random_forest.hex\", ntrees=1, max_depth=max_depth,\n",
    "                                             sample_rate=1, score_tree_interval=2)\n",
    "        train['label'].asfactor()\n",
    "        DRF_model.train(training_frame = train, y='label')\n",
    "        for i in range(attempt_per_thread):\n",
    "            sdt_time, drf_time = run_predict(SDT_model, DRF_model, test)\n",
    "            times_SDT.append(SDT_time)\n",
    "            times_DRF.append(DRF_time)\n",
    "        h2o.cluster().shutdown()\n",
    "        print(f\"SDT {np.mean(times_sdt)}s\")\n",
    "        print(f\"DRF {np.mean(times_drf)}s\")\n",
    "        all_times_num_sdt.append(times_sdt)\n",
    "        all_times_num_drf.append(times_drf)\n",
    "        all_times.append(f\"thread {nthreads} - SDT {np.mean(times_sdt)}s and DRF {np.mean(times_drf)}s\")\n",
    "        \n",
    "        \n",
    "    sdt_means = dict()\n",
    "    drf_means = dict()\n",
    "    for i, nthreads in enumerate(threds):\n",
    "        print(f\"{nthreads} - SDT = {np.mean(all_times_num_sdt[i])}, DRF = {np.mean(all_times_num_drf[i])}\")\n",
    "        sdt_means[nthreads] = np.mean(all_times_num_sdt[i])\n",
    "        drf_means[nthreads] = np.mean(all_times_num_drf[i])\n",
    "\n",
    "    return sdt_means, drf_means \n",
    "\n",
    "def plot_predict(SDT_means, DRF_means):\n",
    "    data = {\"x\":[], \"y\": [], \"label\":[]}\n",
    "    for label, coord in SDT_means.items():\n",
    "        data[\"x\"].append(label)\n",
    "        data[\"y\"].append(coord)\n",
    "\n",
    "    data_drf = {\"x\":[], \"y\": [], \"label\":[]}\n",
    "    for label, coord in DRF_means.items():\n",
    "        data_drf[\"x\"].append(label)\n",
    "        data_drf[\"y\"].append(coord)    \n",
    "\n",
    "    fig=plt.figure(figsize=(8,10))\n",
    "    fig.add_subplot(111)\n",
    "    plt.plot(data['x'], data['y'], '-', label=\"SDT\", linewidth=3)\n",
    "    plt.plot(data_drf['x'], data_drf['y'], '-', label=\"DRF\", linewidth=3)\n",
    "    plt.xlabel(\"Number of threads\")\n",
    "    plt.ylabel(\"Computing time (s)\")\n",
    "    plt.legend()\n",
    "    plt.tick_params(direction='out', length=6, width=2) \n",
    "    plt.title(f\"Single Decision Tree - evaluation benchmark\\nModel: max_depth = {max_depth}\")\n",
    "    plt.savefig(f\"h2o-eval-perf.png\", bbox_inches='tight', pad_inches=.05)\n",
    "    plt.show()"
   ]
  },
  {
   "cell_type": "code",
   "execution_count": null,
   "metadata": {
    "pycharm": {
     "name": "#%%\n"
    }
   },
   "outputs": [],
   "source": [
    "# Evaluation stage parameters\n",
    "X_train = pd.read_csv(\"smalldata/yuliia/HIGGS_train_limited1.csv\")\n",
    "X_test = pd.read_csv(\"smalldata/yuliia/HIGGS_test_limited1.csv\")\n",
    "sdt_time3, drf_time3 = run_predict_benchmark(X_train, X_test)"
   ]
  },
  {
   "cell_type": "code",
   "execution_count": null,
   "metadata": {
    "pycharm": {
     "name": "#%%\n"
    }
   },
   "outputs": [],
   "source": [
    "plot_predict(sdt_time3, drf_time3)"
   ]
  },
  {
   "cell_type": "code",
   "execution_count": null,
   "metadata": {},
   "outputs": [],
   "source": []
  },
  {
   "cell_type": "code",
   "execution_count": null,
   "metadata": {},
   "outputs": [],
   "source": []
  },
  {
   "cell_type": "code",
   "execution_count": null,
   "metadata": {},
   "outputs": [],
   "source": []
  },
  {
   "cell_type": "code",
   "execution_count": null,
   "metadata": {},
   "outputs": [],
   "source": []
  },
  {
   "cell_type": "code",
   "execution_count": null,
   "metadata": {},
   "outputs": [],
   "source": []
  },
  {
   "cell_type": "code",
   "execution_count": null,
   "metadata": {},
   "outputs": [],
   "source": []
  }
 ],
 "metadata": {
  "kernelspec": {
   "display_name": "h2o-venv",
   "language": "python",
   "name": "h2o-venv"
  },
  "language_info": {
   "codemirror_mode": {
    "name": "ipython",
    "version": 3
   },
   "file_extension": ".py",
   "mimetype": "text/x-python",
   "name": "python",
   "nbconvert_exporter": "python",
   "pygments_lexer": "ipython3",
   "version": "3.9.12"
  }
 },
 "nbformat": 4,
 "nbformat_minor": 4
}
